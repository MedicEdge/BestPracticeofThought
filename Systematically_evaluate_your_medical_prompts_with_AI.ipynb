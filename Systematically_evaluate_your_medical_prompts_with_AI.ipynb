{
  "cells": [
    {
      "cell_type": "markdown",
      "metadata": {
        "id": "rfs2RCYb144G"
      },
      "source": [
        "## Setup Environment\n",
        "Run this cell to setup the programming envionment"
      ]
    },
    {
      "cell_type": "code",
      "source": [
        "!pip install openai trulens_eval llama_index argilla datasets"
      ],
      "metadata": {
        "id": "eV6tjER3WthA",
        "outputId": "e594e4fb-9293-480b-d988-8b5d7d9c3622",
        "colab": {
          "base_uri": "https://localhost:8080/"
        }
      },
      "execution_count": 1,
      "outputs": [
        {
          "output_type": "stream",
          "name": "stdout",
          "text": [
            "Requirement already satisfied: openai in /usr/local/lib/python3.10/dist-packages (1.6.1)\n",
            "Requirement already satisfied: trulens_eval in /usr/local/lib/python3.10/dist-packages (0.20.0)\n",
            "Requirement already satisfied: llama_index in /usr/local/lib/python3.10/dist-packages (0.9.21)\n",
            "Requirement already satisfied: argilla in /usr/local/lib/python3.10/dist-packages (1.12.0)\n",
            "Collecting datasets\n",
            "  Downloading datasets-2.16.0-py3-none-any.whl (507 kB)\n",
            "\u001b[2K     \u001b[90m━━━━━━━━━━━━━━━━━━━━━━━━━━━━━━━━━━━━━━━━\u001b[0m \u001b[32m507.1/507.1 kB\u001b[0m \u001b[31m5.5 MB/s\u001b[0m eta \u001b[36m0:00:00\u001b[0m\n",
            "\u001b[?25hRequirement already satisfied: anyio<5,>=3.5.0 in /usr/local/lib/python3.10/dist-packages (from openai) (3.7.1)\n",
            "Requirement already satisfied: distro<2,>=1.7.0 in /usr/lib/python3/dist-packages (from openai) (1.7.0)\n",
            "Requirement already satisfied: httpx<1,>=0.23.0 in /usr/local/lib/python3.10/dist-packages (from openai) (0.23.3)\n",
            "Requirement already satisfied: pydantic<3,>=1.9.0 in /usr/local/lib/python3.10/dist-packages (from openai) (2.5.3)\n",
            "Requirement already satisfied: sniffio in /usr/local/lib/python3.10/dist-packages (from openai) (1.3.0)\n",
            "Requirement already satisfied: tqdm>4 in /usr/local/lib/python3.10/dist-packages (from openai) (4.66.1)\n",
            "Requirement already satisfied: typing-extensions<5,>=4.7 in /usr/local/lib/python3.10/dist-packages (from openai) (4.9.0)\n",
            "Requirement already satisfied: numpy>=1.23.5 in /usr/local/lib/python3.10/dist-packages (from trulens_eval) (1.23.5)\n",
            "Requirement already satisfied: frozendict>=2.3.8 in /usr/local/lib/python3.10/dist-packages (from trulens_eval) (2.3.10)\n",
            "Requirement already satisfied: munch>=3.0.0 in /usr/local/lib/python3.10/dist-packages (from trulens_eval) (4.0.0)\n",
            "Requirement already satisfied: dill>=0.3.7 in /usr/local/lib/python3.10/dist-packages (from trulens_eval) (0.3.7)\n",
            "Requirement already satisfied: python-dotenv>=1.0.0 in /usr/local/lib/python3.10/dist-packages (from trulens_eval) (1.0.0)\n",
            "Requirement already satisfied: merkle-json>=1.0.0 in /usr/local/lib/python3.10/dist-packages (from trulens_eval) (1.0.0)\n",
            "Requirement already satisfied: langchain>=0.0.335 in /usr/local/lib/python3.10/dist-packages (from trulens_eval) (0.0.352)\n",
            "Requirement already satisfied: typing-inspect>=0.8.0 in /usr/local/lib/python3.10/dist-packages (from trulens_eval) (0.9.0)\n",
            "Requirement already satisfied: millify>=0.1.1 in /usr/local/lib/python3.10/dist-packages (from trulens_eval) (0.1.1)\n",
            "Requirement already satisfied: humanize>=4.6.0 in /usr/local/lib/python3.10/dist-packages (from trulens_eval) (4.7.0)\n",
            "Requirement already satisfied: streamlit>=1.27.0 in /usr/local/lib/python3.10/dist-packages (from trulens_eval) (1.29.0)\n",
            "Requirement already satisfied: streamlit-aggrid>=0.3.4.post3 in /usr/local/lib/python3.10/dist-packages (from trulens_eval) (0.3.4.post3)\n",
            "Requirement already satisfied: streamlit-extras>=0.2.7 in /usr/local/lib/python3.10/dist-packages (from trulens_eval) (0.3.6)\n",
            "Requirement already satisfied: sqlalchemy>=2.0.19 in /usr/local/lib/python3.10/dist-packages (from trulens_eval) (2.0.23)\n",
            "Requirement already satisfied: alembic>=1.11.2 in /usr/local/lib/python3.10/dist-packages (from trulens_eval) (1.13.1)\n",
            "Requirement already satisfied: aiohttp<4.0.0,>=3.8.6 in /usr/local/lib/python3.10/dist-packages (from llama_index) (3.9.1)\n",
            "Requirement already satisfied: beautifulsoup4<5.0.0,>=4.12.2 in /usr/local/lib/python3.10/dist-packages (from llama_index) (4.12.2)\n",
            "Requirement already satisfied: dataclasses-json in /usr/local/lib/python3.10/dist-packages (from llama_index) (0.6.3)\n",
            "Requirement already satisfied: deprecated>=1.2.9.3 in /usr/local/lib/python3.10/dist-packages (from llama_index) (1.2.14)\n",
            "Requirement already satisfied: fsspec>=2023.5.0 in /usr/local/lib/python3.10/dist-packages (from llama_index) (2023.6.0)\n",
            "Requirement already satisfied: nest-asyncio<2.0.0,>=1.5.8 in /usr/local/lib/python3.10/dist-packages (from llama_index) (1.5.8)\n",
            "Requirement already satisfied: nltk<4.0.0,>=3.8.1 in /usr/local/lib/python3.10/dist-packages (from llama_index) (3.8.1)\n",
            "Requirement already satisfied: pandas in /usr/local/lib/python3.10/dist-packages (from llama_index) (1.5.3)\n",
            "Requirement already satisfied: requests>=2.31.0 in /usr/local/lib/python3.10/dist-packages (from llama_index) (2.31.0)\n",
            "Requirement already satisfied: tenacity<9.0.0,>=8.2.0 in /usr/local/lib/python3.10/dist-packages (from llama_index) (8.2.3)\n",
            "Requirement already satisfied: tiktoken>=0.3.3 in /usr/local/lib/python3.10/dist-packages (from llama_index) (0.5.2)\n",
            "Requirement already satisfied: packaging>=20.0 in /usr/local/lib/python3.10/dist-packages (from argilla) (23.2)\n",
            "Requirement already satisfied: wrapt<1.15,>=1.13 in /usr/local/lib/python3.10/dist-packages (from argilla) (1.14.1)\n",
            "Requirement already satisfied: backoff in /usr/local/lib/python3.10/dist-packages (from argilla) (2.2.1)\n",
            "Requirement already satisfied: monotonic in /usr/local/lib/python3.10/dist-packages (from argilla) (1.6)\n",
            "Requirement already satisfied: rich<=13.0.1 in /usr/local/lib/python3.10/dist-packages (from argilla) (13.0.1)\n",
            "Requirement already satisfied: typer<0.8.0,>=0.6.0 in /usr/local/lib/python3.10/dist-packages (from argilla) (0.7.0)\n",
            "Requirement already satisfied: filelock in /usr/local/lib/python3.10/dist-packages (from datasets) (3.13.1)\n",
            "Requirement already satisfied: pyarrow>=8.0.0 in /usr/local/lib/python3.10/dist-packages (from datasets) (10.0.1)\n",
            "Collecting pyarrow-hotfix (from datasets)\n",
            "  Downloading pyarrow_hotfix-0.6-py3-none-any.whl (7.9 kB)\n",
            "Requirement already satisfied: xxhash in /usr/local/lib/python3.10/dist-packages (from datasets) (3.4.1)\n",
            "Collecting multiprocess (from datasets)\n",
            "  Downloading multiprocess-0.70.15-py310-none-any.whl (134 kB)\n",
            "\u001b[2K     \u001b[90m━━━━━━━━━━━━━━━━━━━━━━━━━━━━━━━━━━━━━━━━\u001b[0m \u001b[32m134.8/134.8 kB\u001b[0m \u001b[31m8.9 MB/s\u001b[0m eta \u001b[36m0:00:00\u001b[0m\n",
            "\u001b[?25hRequirement already satisfied: huggingface-hub>=0.19.4 in /usr/local/lib/python3.10/dist-packages (from datasets) (0.19.4)\n",
            "Requirement already satisfied: pyyaml>=5.1 in /usr/local/lib/python3.10/dist-packages (from datasets) (6.0.1)\n",
            "Requirement already satisfied: attrs>=17.3.0 in /usr/local/lib/python3.10/dist-packages (from aiohttp<4.0.0,>=3.8.6->llama_index) (23.1.0)\n",
            "Requirement already satisfied: multidict<7.0,>=4.5 in /usr/local/lib/python3.10/dist-packages (from aiohttp<4.0.0,>=3.8.6->llama_index) (6.0.4)\n",
            "Requirement already satisfied: yarl<2.0,>=1.0 in /usr/local/lib/python3.10/dist-packages (from aiohttp<4.0.0,>=3.8.6->llama_index) (1.9.4)\n",
            "Requirement already satisfied: frozenlist>=1.1.1 in /usr/local/lib/python3.10/dist-packages (from aiohttp<4.0.0,>=3.8.6->llama_index) (1.4.1)\n",
            "Requirement already satisfied: aiosignal>=1.1.2 in /usr/local/lib/python3.10/dist-packages (from aiohttp<4.0.0,>=3.8.6->llama_index) (1.3.1)\n",
            "Requirement already satisfied: async-timeout<5.0,>=4.0 in /usr/local/lib/python3.10/dist-packages (from aiohttp<4.0.0,>=3.8.6->llama_index) (4.0.3)\n",
            "Requirement already satisfied: Mako in /usr/local/lib/python3.10/dist-packages (from alembic>=1.11.2->trulens_eval) (1.3.0)\n",
            "Requirement already satisfied: idna>=2.8 in /usr/local/lib/python3.10/dist-packages (from anyio<5,>=3.5.0->openai) (3.6)\n",
            "Requirement already satisfied: exceptiongroup in /usr/local/lib/python3.10/dist-packages (from anyio<5,>=3.5.0->openai) (1.2.0)\n",
            "Requirement already satisfied: soupsieve>1.2 in /usr/local/lib/python3.10/dist-packages (from beautifulsoup4<5.0.0,>=4.12.2->llama_index) (2.5)\n",
            "Requirement already satisfied: certifi in /usr/local/lib/python3.10/dist-packages (from httpx<1,>=0.23.0->openai) (2023.11.17)\n",
            "Requirement already satisfied: httpcore<0.17.0,>=0.15.0 in /usr/local/lib/python3.10/dist-packages (from httpx<1,>=0.23.0->openai) (0.16.3)\n",
            "Requirement already satisfied: rfc3986[idna2008]<2,>=1.3 in /usr/local/lib/python3.10/dist-packages (from httpx<1,>=0.23.0->openai) (1.5.0)\n",
            "Requirement already satisfied: jsonpatch<2.0,>=1.33 in /usr/local/lib/python3.10/dist-packages (from langchain>=0.0.335->trulens_eval) (1.33)\n",
            "Requirement already satisfied: langchain-community<0.1,>=0.0.2 in /usr/local/lib/python3.10/dist-packages (from langchain>=0.0.335->trulens_eval) (0.0.6)\n",
            "Requirement already satisfied: langchain-core<0.2,>=0.1 in /usr/local/lib/python3.10/dist-packages (from langchain>=0.0.335->trulens_eval) (0.1.3)\n",
            "Requirement already satisfied: langsmith<0.1.0,>=0.0.70 in /usr/local/lib/python3.10/dist-packages (from langchain>=0.0.335->trulens_eval) (0.0.75)\n",
            "Requirement already satisfied: marshmallow<4.0.0,>=3.18.0 in /usr/local/lib/python3.10/dist-packages (from dataclasses-json->llama_index) (3.20.1)\n",
            "Requirement already satisfied: click in /usr/local/lib/python3.10/dist-packages (from nltk<4.0.0,>=3.8.1->llama_index) (8.1.7)\n",
            "Requirement already satisfied: joblib in /usr/local/lib/python3.10/dist-packages (from nltk<4.0.0,>=3.8.1->llama_index) (1.3.2)\n",
            "Requirement already satisfied: regex>=2021.8.3 in /usr/local/lib/python3.10/dist-packages (from nltk<4.0.0,>=3.8.1->llama_index) (2023.6.3)\n",
            "Requirement already satisfied: python-dateutil>=2.8.1 in /usr/local/lib/python3.10/dist-packages (from pandas->llama_index) (2.8.2)\n",
            "Requirement already satisfied: pytz>=2020.1 in /usr/local/lib/python3.10/dist-packages (from pandas->llama_index) (2023.3.post1)\n",
            "Requirement already satisfied: annotated-types>=0.4.0 in /usr/local/lib/python3.10/dist-packages (from pydantic<3,>=1.9.0->openai) (0.6.0)\n",
            "Requirement already satisfied: pydantic-core==2.14.6 in /usr/local/lib/python3.10/dist-packages (from pydantic<3,>=1.9.0->openai) (2.14.6)\n",
            "Requirement already satisfied: charset-normalizer<4,>=2 in /usr/local/lib/python3.10/dist-packages (from requests>=2.31.0->llama_index) (3.3.2)\n",
            "Requirement already satisfied: urllib3<3,>=1.21.1 in /usr/local/lib/python3.10/dist-packages (from requests>=2.31.0->llama_index) (2.0.7)\n",
            "Requirement already satisfied: commonmark<0.10.0,>=0.9.0 in /usr/local/lib/python3.10/dist-packages (from rich<=13.0.1->argilla) (0.9.1)\n",
            "Requirement already satisfied: pygments<3.0.0,>=2.6.0 in /usr/local/lib/python3.10/dist-packages (from rich<=13.0.1->argilla) (2.16.1)\n",
            "Requirement already satisfied: greenlet!=0.4.17 in /usr/local/lib/python3.10/dist-packages (from sqlalchemy>=2.0.19->trulens_eval) (3.0.2)\n",
            "Requirement already satisfied: altair<6,>=4.0 in /usr/local/lib/python3.10/dist-packages (from streamlit>=1.27.0->trulens_eval) (4.2.2)\n",
            "Requirement already satisfied: blinker<2,>=1.0.0 in /usr/lib/python3/dist-packages (from streamlit>=1.27.0->trulens_eval) (1.4)\n",
            "Requirement already satisfied: cachetools<6,>=4.0 in /usr/local/lib/python3.10/dist-packages (from streamlit>=1.27.0->trulens_eval) (5.3.2)\n",
            "Requirement already satisfied: importlib-metadata<7,>=1.4 in /usr/local/lib/python3.10/dist-packages (from streamlit>=1.27.0->trulens_eval) (6.11.0)\n",
            "Requirement already satisfied: pillow<11,>=7.1.0 in /usr/local/lib/python3.10/dist-packages (from streamlit>=1.27.0->trulens_eval) (9.4.0)\n",
            "Requirement already satisfied: protobuf<5,>=3.20 in /usr/local/lib/python3.10/dist-packages (from streamlit>=1.27.0->trulens_eval) (3.20.3)\n",
            "Requirement already satisfied: toml<2,>=0.10.1 in /usr/local/lib/python3.10/dist-packages (from streamlit>=1.27.0->trulens_eval) (0.10.2)\n",
            "Requirement already satisfied: tzlocal<6,>=1.1 in /usr/local/lib/python3.10/dist-packages (from streamlit>=1.27.0->trulens_eval) (5.2)\n",
            "Requirement already satisfied: validators<1,>=0.2 in /usr/local/lib/python3.10/dist-packages (from streamlit>=1.27.0->trulens_eval) (0.22.0)\n",
            "Requirement already satisfied: gitpython!=3.1.19,<4,>=3.0.7 in /usr/local/lib/python3.10/dist-packages (from streamlit>=1.27.0->trulens_eval) (3.1.40)\n",
            "Requirement already satisfied: pydeck<1,>=0.8.0b4 in /usr/local/lib/python3.10/dist-packages (from streamlit>=1.27.0->trulens_eval) (0.8.1b0)\n",
            "Requirement already satisfied: tornado<7,>=6.0.3 in /usr/local/lib/python3.10/dist-packages (from streamlit>=1.27.0->trulens_eval) (6.3.2)\n",
            "Requirement already satisfied: watchdog>=2.1.5 in /usr/local/lib/python3.10/dist-packages (from streamlit>=1.27.0->trulens_eval) (3.0.0)\n",
            "Requirement already satisfied: python-decouple<4.0,>=3.6 in /usr/local/lib/python3.10/dist-packages (from streamlit-aggrid>=0.3.4.post3->trulens_eval) (3.8)\n",
            "Requirement already satisfied: entrypoints>=0.4 in /usr/local/lib/python3.10/dist-packages (from streamlit-extras>=0.2.7->trulens_eval) (0.4)\n",
            "Requirement already satisfied: htbuilder>=0.6.2 in /usr/local/lib/python3.10/dist-packages (from streamlit-extras>=0.2.7->trulens_eval) (0.6.2)\n",
            "Requirement already satisfied: markdownlit>=0.0.5 in /usr/local/lib/python3.10/dist-packages (from streamlit-extras>=0.2.7->trulens_eval) (0.0.7)\n",
            "Requirement already satisfied: st-annotated-text>=3.0.0 in /usr/local/lib/python3.10/dist-packages (from streamlit-extras>=0.2.7->trulens_eval) (4.0.1)\n",
            "Requirement already satisfied: streamlit-camera-input-live>=0.2.0 in /usr/local/lib/python3.10/dist-packages (from streamlit-extras>=0.2.7->trulens_eval) (0.2.0)\n",
            "Requirement already satisfied: streamlit-card>=0.0.4 in /usr/local/lib/python3.10/dist-packages (from streamlit-extras>=0.2.7->trulens_eval) (1.0.0)\n",
            "Requirement already satisfied: streamlit-embedcode>=0.1.2 in /usr/local/lib/python3.10/dist-packages (from streamlit-extras>=0.2.7->trulens_eval) (0.1.2)\n",
            "Requirement already satisfied: streamlit-faker>=0.0.2 in /usr/local/lib/python3.10/dist-packages (from streamlit-extras>=0.2.7->trulens_eval) (0.0.3)\n",
            "Requirement already satisfied: streamlit-image-coordinates<0.2.0,>=0.1.1 in /usr/local/lib/python3.10/dist-packages (from streamlit-extras>=0.2.7->trulens_eval) (0.1.6)\n",
            "Requirement already satisfied: streamlit-keyup>=0.1.9 in /usr/local/lib/python3.10/dist-packages (from streamlit-extras>=0.2.7->trulens_eval) (0.2.2)\n",
            "Requirement already satisfied: streamlit-toggle-switch>=1.0.2 in /usr/local/lib/python3.10/dist-packages (from streamlit-extras>=0.2.7->trulens_eval) (1.0.2)\n",
            "Requirement already satisfied: streamlit-vertical-slider>=1.0.2 in /usr/local/lib/python3.10/dist-packages (from streamlit-extras>=0.2.7->trulens_eval) (2.5.5)\n",
            "Requirement already satisfied: mypy-extensions>=0.3.0 in /usr/local/lib/python3.10/dist-packages (from typing-inspect>=0.8.0->trulens_eval) (1.0.0)\n",
            "Requirement already satisfied: jinja2 in /usr/local/lib/python3.10/dist-packages (from altair<6,>=4.0->streamlit>=1.27.0->trulens_eval) (3.1.2)\n",
            "Requirement already satisfied: jsonschema>=3.0 in /usr/local/lib/python3.10/dist-packages (from altair<6,>=4.0->streamlit>=1.27.0->trulens_eval) (4.19.2)\n",
            "Requirement already satisfied: toolz in /usr/local/lib/python3.10/dist-packages (from altair<6,>=4.0->streamlit>=1.27.0->trulens_eval) (0.12.0)\n",
            "Requirement already satisfied: gitdb<5,>=4.0.1 in /usr/local/lib/python3.10/dist-packages (from gitpython!=3.1.19,<4,>=3.0.7->streamlit>=1.27.0->trulens_eval) (4.0.11)\n",
            "Requirement already satisfied: more-itertools in /usr/local/lib/python3.10/dist-packages (from htbuilder>=0.6.2->streamlit-extras>=0.2.7->trulens_eval) (10.1.0)\n",
            "Requirement already satisfied: h11<0.15,>=0.13 in /usr/local/lib/python3.10/dist-packages (from httpcore<0.17.0,>=0.15.0->httpx<1,>=0.23.0->openai) (0.14.0)\n",
            "Requirement already satisfied: zipp>=0.5 in /usr/local/lib/python3.10/dist-packages (from importlib-metadata<7,>=1.4->streamlit>=1.27.0->trulens_eval) (3.17.0)\n",
            "Requirement already satisfied: jsonpointer>=1.9 in /usr/local/lib/python3.10/dist-packages (from jsonpatch<2.0,>=1.33->langchain>=0.0.335->trulens_eval) (2.4)\n",
            "Requirement already satisfied: markdown in /usr/local/lib/python3.10/dist-packages (from markdownlit>=0.0.5->streamlit-extras>=0.2.7->trulens_eval) (3.5.1)\n",
            "Requirement already satisfied: lxml in /usr/local/lib/python3.10/dist-packages (from markdownlit>=0.0.5->streamlit-extras>=0.2.7->trulens_eval) (4.9.3)\n",
            "Requirement already satisfied: favicon in /usr/local/lib/python3.10/dist-packages (from markdownlit>=0.0.5->streamlit-extras>=0.2.7->trulens_eval) (0.7.0)\n",
            "Requirement already satisfied: pymdown-extensions in /usr/local/lib/python3.10/dist-packages (from markdownlit>=0.0.5->streamlit-extras>=0.2.7->trulens_eval) (10.5)\n",
            "Requirement already satisfied: six>=1.5 in /usr/local/lib/python3.10/dist-packages (from python-dateutil>=2.8.1->pandas->llama_index) (1.16.0)\n",
            "Requirement already satisfied: faker in /usr/local/lib/python3.10/dist-packages (from streamlit-faker>=0.0.2->streamlit-extras>=0.2.7->trulens_eval) (21.0.0)\n",
            "Requirement already satisfied: matplotlib in /usr/local/lib/python3.10/dist-packages (from streamlit-faker>=0.0.2->streamlit-extras>=0.2.7->trulens_eval) (3.7.1)\n",
            "Requirement already satisfied: MarkupSafe>=0.9.2 in /usr/local/lib/python3.10/dist-packages (from Mako->alembic>=1.11.2->trulens_eval) (2.1.3)\n",
            "Requirement already satisfied: smmap<6,>=3.0.1 in /usr/local/lib/python3.10/dist-packages (from gitdb<5,>=4.0.1->gitpython!=3.1.19,<4,>=3.0.7->streamlit>=1.27.0->trulens_eval) (5.0.1)\n",
            "Requirement already satisfied: jsonschema-specifications>=2023.03.6 in /usr/local/lib/python3.10/dist-packages (from jsonschema>=3.0->altair<6,>=4.0->streamlit>=1.27.0->trulens_eval) (2023.11.2)\n",
            "Requirement already satisfied: referencing>=0.28.4 in /usr/local/lib/python3.10/dist-packages (from jsonschema>=3.0->altair<6,>=4.0->streamlit>=1.27.0->trulens_eval) (0.32.0)\n",
            "Requirement already satisfied: rpds-py>=0.7.1 in /usr/local/lib/python3.10/dist-packages (from jsonschema>=3.0->altair<6,>=4.0->streamlit>=1.27.0->trulens_eval) (0.15.2)\n",
            "Requirement already satisfied: contourpy>=1.0.1 in /usr/local/lib/python3.10/dist-packages (from matplotlib->streamlit-faker>=0.0.2->streamlit-extras>=0.2.7->trulens_eval) (1.2.0)\n",
            "Requirement already satisfied: cycler>=0.10 in /usr/local/lib/python3.10/dist-packages (from matplotlib->streamlit-faker>=0.0.2->streamlit-extras>=0.2.7->trulens_eval) (0.12.1)\n",
            "Requirement already satisfied: fonttools>=4.22.0 in /usr/local/lib/python3.10/dist-packages (from matplotlib->streamlit-faker>=0.0.2->streamlit-extras>=0.2.7->trulens_eval) (4.46.0)\n",
            "Requirement already satisfied: kiwisolver>=1.0.1 in /usr/local/lib/python3.10/dist-packages (from matplotlib->streamlit-faker>=0.0.2->streamlit-extras>=0.2.7->trulens_eval) (1.4.5)\n",
            "Requirement already satisfied: pyparsing>=2.3.1 in /usr/local/lib/python3.10/dist-packages (from matplotlib->streamlit-faker>=0.0.2->streamlit-extras>=0.2.7->trulens_eval) (3.1.1)\n",
            "Installing collected packages: pyarrow-hotfix, multiprocess, datasets\n",
            "Successfully installed datasets-2.16.0 multiprocess-0.70.15 pyarrow-hotfix-0.6\n"
          ]
        }
      ]
    },
    {
      "cell_type": "code",
      "execution_count": 2,
      "metadata": {
        "id": "5ph_Nc0Y144H",
        "colab": {
          "base_uri": "https://localhost:8080/"
        },
        "outputId": "60131377-b91b-48f5-a83d-01e9ed6a93e3"
      },
      "outputs": [
        {
          "output_type": "stream",
          "name": "stdout",
          "text": [
            "🦑 Tru initialized with db url sqlite:///default.sqlite .\n",
            "🛑 Secret keys may be written to the database. See the `database_redact_keys` option of `Tru` to prevent this.\n"
          ]
        }
      ],
      "source": [
        "import os\n",
        "import sys\n",
        "from IPython.display import JSON, display\n",
        "import ipywidgets as widgets\n",
        "from google.colab import files\n",
        "from trulens_eval import Feedback, Tru, OpenAI\n",
        "from openai import OpenAI\n",
        "from trulens_eval import TruBasicApp\n",
        "\n",
        "tru = Tru()\n",
        "tru.reset_database()\n",
        "os.environ[\"OPENAI_API_KEY\"] = ''\n",
        "client = OpenAI()"
      ]
    },
    {
      "cell_type": "markdown",
      "metadata": {
        "id": "mXOqNqes144I"
      },
      "source": [
        "#Uploading System Prompts\n",
        "Please upload the required text files in **.txt format** using the buttons below. Each button corresponds to a specific file:\n",
        "\n",
        "1. **BPoT System Prompt File**: Upload the txt file for BPoT system prompt.\n",
        "2. **CoT System Prompt File**: Upload the txt file for CoT system prompt.\n",
        "3. **Blackbox System Prompt File**: Upload the txt file for Blackbox system prompt.\n",
        "\n",
        "Ensure that each file is in the correct format as specified in the documentation.\n",
        "\n",
        "You can use [this website](https://www.editpad.org/) to edit and download your txt file\n"
      ]
    },
    {
      "cell_type": "code",
      "source": [
        "# @title Run this cell to upload system prompts\n",
        "\n",
        "import ipywidgets as widgets\n",
        "from IPython.display import display\n",
        "import io\n",
        "\n",
        "# Initialize variables\n",
        "BPoT_system_prompt = \"\"\n",
        "CoT_system_prompt = '''You are an AI medical assistant\n",
        "Give a prediction of the diagnosis\n",
        "think step by step and give reason for your prediction in 50 words\n",
        "'''\n",
        "Blackbox_system_prompt = '''You are an AI medical assistant\n",
        "Give a prediction of the diagnosis\n",
        "Just give your answer without any explanations\n",
        "'''\n",
        "\n",
        "def handle_upload(change, variable_name):\n",
        "    global BPoT_system_prompt, CoT_system_prompt, Blackbox_system_prompt\n",
        "\n",
        "    if change['new']:  # Check if there is a new file\n",
        "        uploaded_file = next(iter(change['new'].values()))  # Access the uploaded file\n",
        "        content = io.StringIO(uploaded_file['content'].decode('utf-8')).read()  # Read content\n",
        "\n",
        "        if variable_name == 'BPoT_system_prompt':\n",
        "            BPoT_system_prompt = content\n",
        "        # elif variable_name == 'CoT_system_prompt':\n",
        "        #     CoT_system_prompt = content\n",
        "        # elif variable_name == 'Blackbox_system_prompt':\n",
        "        #     Blackbox_system_prompt = content\n",
        "    else:\n",
        "        print(f\"No file uploaded for {variable_name}\")\n",
        "\n",
        "\n",
        "# Create and display file upload widgets\n",
        "# for variable_name in ['BPoT_system_prompt', 'CoT_system_prompt', 'Blackbox_system_prompt']:\n",
        "for variable_name in ['BPoT_system_prompt']:\n",
        "    uploader = widgets.FileUpload(description=f'Upload {variable_name}')\n",
        "    uploader.observe(lambda change, vn=variable_name: handle_upload(change, vn), names='value')\n",
        "    display(uploader)\n"
      ],
      "metadata": {
        "colab": {
          "base_uri": "https://localhost:8080/",
          "height": 49,
          "referenced_widgets": [
            "d77efb8ea8aa4f75874d691c2540c882",
            "1c9971b3426444a0b536f1f4ec5ed986",
            "8d0dc593b0b14d3e902c40483f68e908"
          ]
        },
        "cellView": "form",
        "id": "ehc2qfk9j3V5",
        "outputId": "1fa98fef-3ea3-4679-ecbd-8ccb9136295e"
      },
      "execution_count": 3,
      "outputs": [
        {
          "output_type": "display_data",
          "data": {
            "text/plain": [
              "FileUpload(value={}, description='Upload BPoT_system_prompt')"
            ],
            "application/vnd.jupyter.widget-view+json": {
              "version_major": 2,
              "version_minor": 0,
              "model_id": "d77efb8ea8aa4f75874d691c2540c882"
            }
          },
          "metadata": {}
        }
      ]
    },
    {
      "cell_type": "code",
      "source": [
        "# @title Check if prompts are correctly uploaded\n",
        "# @markdown Run this cell to see if the prompts are correctly uploaded\n",
        "# Function to check and display the content of the prompts\n",
        "def check_prompts():\n",
        "    prompts = {\n",
        "        'BPoT System Prompt': BPoT_system_prompt,\n",
        "        'CoT System Prompt': CoT_system_prompt,\n",
        "        'Blackbox System Prompt': Blackbox_system_prompt\n",
        "    }\n",
        "\n",
        "    for name, content in prompts.items():\n",
        "        if content:\n",
        "            print(f\"{name} is uploaded. Content Preview (first 100 chars): \\n{content[:200]}...\\n\")\n",
        "        else:\n",
        "            print(f\"{name} is NOT uploaded or is empty.\\n\")\n",
        "\n",
        "# Call the function to perform the check\n",
        "check_prompts()\n"
      ],
      "metadata": {
        "colab": {
          "base_uri": "https://localhost:8080/"
        },
        "cellView": "form",
        "id": "eS5I3yLbrSpG",
        "outputId": "81cf6a68-4209-4b19-a073-12719c4fac0d"
      },
      "execution_count": 4,
      "outputs": [
        {
          "output_type": "stream",
          "name": "stdout",
          "text": [
            "BPoT System Prompt is uploaded. Content Preview (first 100 chars): \n",
            "**You are an AI-based medical diagnostic assistant tasked with evaluating patients for various functional bowel disorders based on the Rome IV criteria.**\n",
            "\n",
            "\n",
            "\n",
            "\n",
            "**Data to Consider**:\n",
            "\n",
            "- Detailed patient...\n",
            "\n",
            "CoT System Prompt is uploaded. Content Preview (first 100 chars): \n",
            "You are an AI medical assistant\n",
            "Give a prediction of the diagnosis\n",
            "think step by step and give reason for your prediction in 50 words\n",
            "...\n",
            "\n",
            "Blackbox System Prompt is uploaded. Content Preview (first 100 chars): \n",
            "You are an AI medical assistant\n",
            "Give a prediction of the diagnosis\n",
            "Just give your answer without any explanations\n",
            "...\n",
            "\n"
          ]
        }
      ]
    },
    {
      "cell_type": "markdown",
      "source": [
        "#"
      ],
      "metadata": {
        "id": "xF9yLzCBsj5J"
      }
    },
    {
      "cell_type": "code",
      "execution_count": 5,
      "metadata": {
        "id": "JtaKiVc9144J",
        "colab": {
          "base_uri": "https://localhost:8080/"
        },
        "outputId": "d99ae63e-e70d-431b-d0dd-6850fb83fb47"
      },
      "outputs": [
        {
          "output_type": "stream",
          "name": "stdout",
          "text": [
            "model selected gpt-3.5-turbo\n"
          ]
        }
      ],
      "source": [
        "# @title Create functions for different prompts\n",
        "# @markdown Select the model and the different prompts would be instantiated\n",
        "\n",
        "Model = \"gpt-3.5-turbo\" # @param ['gpt-3.5-turbo', 'gpt-4-1106-preview']\n",
        "\n",
        "# Define the generic function with an additional model parameter\n",
        "def create_prompt_response(user_prompt, system_prompt, model_name):\n",
        "    system_prompt_content = system_prompts[system_prompt]\n",
        "    response = client.chat.completions.create(\n",
        "        model=model_name,\n",
        "        messages=[\n",
        "            {\"role\": \"system\", \"content\": system_prompt_content},\n",
        "            {\"role\": \"user\", \"content\": user_prompt}\n",
        "        ]\n",
        "    )\n",
        "    return response.choices[0].message.content\n",
        "\n",
        "# Dictionary mapping prompt names to their content\n",
        "system_prompts = {\n",
        "    'BPoT': BPoT_system_prompt,\n",
        "    'CoT': CoT_system_prompt,\n",
        "    'Blackbox': Blackbox_system_prompt\n",
        "}\n",
        "\n",
        "\n",
        "def BPoT_response(user_prompt):\n",
        "    return create_prompt_response(user_prompt, 'BPoT', Model)\n",
        "\n",
        "def CoT_response(user_prompt):\n",
        "    return create_prompt_response(user_prompt, 'CoT', Model)\n",
        "\n",
        "def Blackbox_response(user_prompt):\n",
        "    return create_prompt_response(user_prompt, 'Blackbox', Model)\n",
        "\n",
        "\n",
        "print(\"model selected\", Model)"
      ]
    },
    {
      "cell_type": "code",
      "source": [
        "# @title Test output\n",
        "test_case = \"Case:   Patient Profile: - Age: 35 years old - Gender: Female - Occupation: Office worker - Lifestyle: Sedentary, spends most of the day sitting at a desk - Dietary habits: Prefers fast food and processed snacks - Personal Stress Level: Moderate  Chief Complaint: The patient presents with frequent and recurring abdominal pain, bloating, gas, and irregular bowel movements.  Medical History: The patient has no significant medical history and has not undergone any major surgeries. She does not take any regular medications and has no known allergies.  Presenting Symptoms: 1. Abdominal Pain: The patient experiences intermittent lower abdominal pain that is often relieved after a bowel movement. 2. Bloating: The patient regularly complains of a feeling of fullness and tightness in her abdomen, particularly after consuming meals. 3. Altered Bowel Movements: The patient experiences irregular bowel movements, switching between periods of diarrhea and constipation. Stool consistency also varies, occasionally being loose and watery. 4. Excessive Gas: The patient experiences increased flatulence throughout the day, causing discomfort and embarrassment.  Patient History: - The patient reports that these symptoms have been occurring on and off for the past six months. - The abdominal pain tends to be mild to moderate, and occurs at different times of the day without any specific triggers. - Increased stress levels at work have been observed to coincide with more severe symptoms. - The patient has noticed that certain foods, especially those high in fat or processed, tend to worsen the bloating and discomfort. - No rectal bleeding, unintentional weight loss, or nocturnal symptoms are reported.  Physical Examination: - General appearance: The patient appears healthy and in no acute distress. - Vital signs: Normal blood pressure, heart rate, and temperature. - Abdomen: No signs of distension or tenderness. Bowel sounds are normoactive in all four quadrants.  Based on the patient's symptoms, medical history, and physical examination, there is a suspicion of a gastrointestinal disorder. However, the exact condition cannot be identified without further investigations and ruling out other possibilities.\" # @param {type: \"string\"}\n",
        "query = test_case\n",
        "response_BPoT = BPoT_response(query, Model)\n",
        "response_CoT = CoT_response(query, Model)\n",
        "response_Blackbox = Blackbox_response(query, Model)\n",
        "\n",
        "from IPython.display import display, HTML\n",
        "\n",
        "# Function to truncate long responses\n",
        "def truncate_response(response, max_length=1200):\n",
        "    return response if len(response) <= max_length else response[:max_length] + '...'\n",
        "\n",
        "# Function to display the response in a formatted manner\n",
        "def display_formatted_response(title, response, use_text_area=False):\n",
        "    truncated_response = truncate_response(response)\n",
        "    separator = \"-\" * 50\n",
        "\n",
        "    if use_text_area:\n",
        "        # Display in a scrollable text area\n",
        "        display(HTML(f'<b>{title}:</b>'))\n",
        "        display(HTML(f'<textarea style=\"width: 100%; height: 200px;\">{truncated_response}</textarea>'))\n",
        "        display(HTML(f'<br>{separator}<br>'))\n",
        "    else:\n",
        "        # Print in standard output\n",
        "        print(f\"{title}:\\n{separator}\\n{truncated_response}\\n\\n{separator}\\n\")\n",
        "\n",
        "# Example usage of the function\n",
        "display_formatted_response('BPoT Response', response_BPoT, use_text_area=True)\n",
        "display_formatted_response('CoT Response', response_CoT, use_text_area=True)\n",
        "display_formatted_response('Blackbox Response', response_Blackbox, use_text_area=True)\n"
      ],
      "metadata": {
        "colab": {
          "base_uri": "https://localhost:8080/",
          "height": 823
        },
        "cellView": "form",
        "id": "U5aZel0Jvrn-",
        "outputId": "e67c5d71-73a8-47d1-a0e3-75fd9c22397e"
      },
      "execution_count": 56,
      "outputs": [
        {
          "output_type": "display_data",
          "data": {
            "text/plain": [
              "<IPython.core.display.HTML object>"
            ],
            "text/html": [
              "<b>BPoT Response:</b>"
            ]
          },
          "metadata": {}
        },
        {
          "output_type": "display_data",
          "data": {
            "text/plain": [
              "<IPython.core.display.HTML object>"
            ],
            "text/html": [
              "<textarea style=\"width: 100%; height: 200px;\">Patient Symptoms:\n",
              "\n",
              "Abdominal Pain: Intermittent lower abdominal pain\n",
              "Bloating: Feeling of fullness and tightness in the abdomen\n",
              "Altered Bowel Movements: Irregular bowel movements with switching between diarrhea and constipation and varying stool consistency\n",
              "Excessive Gas: Increased flatulence throughout the day\n",
              "\n",
              "Symptom Duration and Frequency:\n",
              "Duration: 6 months\n",
              "Frequency: Occurs on and off, no specific triggers mentioned\n",
              "\n",
              "Diagnosis Prediction:\n",
              "\n",
              "Likely Diagnosis: Irritable Bowel Syndrome (Mixed type with bloating)\n",
              "Confidence Level: Moderate\n",
              "\n",
              "Evidence For Diagnosis of IBS:\n",
              "\n",
              "1. Recurrent abdominal pain and bloating fit the Rome IV criteria for IBS.\n",
              "2. Alternating bowel movements between diarrhea and constipation align with IBS symptoms.\n",
              "3. Increased gas production is a common symptom of IBS.\n",
              "\n",
              "Evidence Against Diagnosis of IBS:\n",
              "\n",
              "1. No evidence of dietary triggers or stress factors, which are often associated with IBS.\n",
              "2. No rectal bleeding, unintentional weight loss, or nocturnal symptoms reported, which may be indicative of other gastrointestinal disorders.\n",
              "\n",
              "Evidence Missing for More Definitive Diagnosis:\n",
              "\n",
              "1. Detailed dietary history not provided, including consumption of FODMAPs or ...</textarea>"
            ]
          },
          "metadata": {}
        },
        {
          "output_type": "display_data",
          "data": {
            "text/plain": [
              "<IPython.core.display.HTML object>"
            ],
            "text/html": [
              "<br>--------------------------------------------------<br>"
            ]
          },
          "metadata": {}
        },
        {
          "output_type": "display_data",
          "data": {
            "text/plain": [
              "<IPython.core.display.HTML object>"
            ],
            "text/html": [
              "<b>CoT Response:</b>"
            ]
          },
          "metadata": {}
        },
        {
          "output_type": "display_data",
          "data": {
            "text/plain": [
              "<IPython.core.display.HTML object>"
            ],
            "text/html": [
              "<textarea style=\"width: 100%; height: 200px;\">Possible Diagnosis: \n",
              "\n",
              "Based on the patient's symptoms and medical history, several possible diagnoses could be considered. The most likely condition is irritable bowel syndrome (IBS). IBS is a common gastrointestinal disorder characterized by abdominal pain or discomfort, bloating, and altered bowel habits. It is often triggered or exacerbated by stress and certain foods. \n",
              "\n",
              "Other possible diagnoses to consider include:\n",
              "\n",
              "1. Functional dyspepsia: This condition is characterized by recurrent upper abdominal pain or discomfort, bloating, early satiety, and nausea. It is also commonly associated with stress and dietary factors.\n",
              "\n",
              "2. Celiac disease: This autoimmune disorder is triggered by the consumption of gluten, causing damage to the small intestine. Symptoms include abdominal pain, bloating, diarrhea, and weight loss.\n",
              "\n",
              "3. Small intestinal bacterial overgrowth (SIBO): This condition occurs when there is an overgrowth of bacteria in the small intestine, leading to symptoms such as bloating, abdominal pain, and altered bowel movements.\n",
              "\n",
              "Further Investigations:\n",
              "\n",
              "1. Laboratory tests: Blood tests to check for markers of inflammation, celiac disease antibodies, and complete blood count to r...</textarea>"
            ]
          },
          "metadata": {}
        },
        {
          "output_type": "display_data",
          "data": {
            "text/plain": [
              "<IPython.core.display.HTML object>"
            ],
            "text/html": [
              "<br>--------------------------------------------------<br>"
            ]
          },
          "metadata": {}
        },
        {
          "output_type": "display_data",
          "data": {
            "text/plain": [
              "<IPython.core.display.HTML object>"
            ],
            "text/html": [
              "<b>Blackbox Response:</b>"
            ]
          },
          "metadata": {}
        },
        {
          "output_type": "display_data",
          "data": {
            "text/plain": [
              "<IPython.core.display.HTML object>"
            ],
            "text/html": [
              "<textarea style=\"width: 100%; height: 200px;\">Possible Diagnosis: Irritable Bowel Syndrome (IBS)\n",
              "\n",
              "- Irritable Bowel Syndrome (IBS) is a common disorder characterized by abdominal pain, bloating, and changes in bowel habits. It is a functional disorder, meaning there are no structural abnormalities or specific laboratory markers to diagnose it.\n",
              "\n",
              "- The patient's symptoms, including abdominal pain relieved by bowel movements, bloating, altered bowel movements, and excessive gas, are consistent with IBS.\n",
              "\n",
              "- The patient's sedentary lifestyle, dietary habits, and increased stress levels may contribute to the development or exacerbation of IBS symptoms.\n",
              "\n",
              "Further Investigations:\n",
              "\n",
              "To confirm the diagnosis and rule out other possibilities, the following investigations may be recommended:\n",
              "\n",
              "1. Blood tests: These can help rule out other conditions such as celiac disease, inflammatory bowel disease, or thyroid disorders.\n",
              "\n",
              "2. Stool tests: These can help rule out infections or malabsorption issues.\n",
              "\n",
              "3. Colonoscopy: This procedure allows visualization of the large intestine and can help rule out structural abnormalities or inflammatory conditions.\n",
              "\n",
              "Treatment:\n",
              "\n",
              "The treatment for IBS usually focuses on managing symptoms and improving quality of ...</textarea>"
            ]
          },
          "metadata": {}
        },
        {
          "output_type": "display_data",
          "data": {
            "text/plain": [
              "<IPython.core.display.HTML object>"
            ],
            "text/html": [
              "<br>--------------------------------------------------<br>"
            ]
          },
          "metadata": {}
        }
      ]
    },
    {
      "cell_type": "markdown",
      "source": [
        "# Setup AI evaluations"
      ],
      "metadata": {
        "id": "8U5WWX6m2ioA"
      }
    },
    {
      "cell_type": "code",
      "source": [
        "# @title Setting up Feedback functions\n",
        "# @markdown This controls what feedback functions would be used to perform AI\n",
        "# @markdown evaluation.\n",
        "# @markdown custom evals for medical purpose is underdevelopment\n",
        "import nest_asyncio\n",
        "from trulens_eval import OpenAI as fOpenAI\n",
        "from trulens_eval.feedback import Groundedness\n",
        "\n",
        "nest_asyncio.apply()\n",
        "provider = fOpenAI()\n",
        "\n",
        "f_qa_relevance = Feedback(\n",
        "    provider.relevance_with_cot_reasons,\n",
        "    name=\"Answer Relevance\"\n",
        ").on_input_output()\n",
        "\n",
        "\n",
        "feedbacks = [ f_qa_relevance]"
      ],
      "metadata": {
        "id": "-dX1xAh-eWHD",
        "colab": {
          "base_uri": "https://localhost:8080/"
        },
        "cellView": "form",
        "outputId": "fc8e75d6-2564-4ef7-df33-5bdb5014d815"
      },
      "execution_count": 6,
      "outputs": [
        {
          "output_type": "stream",
          "name": "stdout",
          "text": [
            "✅ In Answer Relevance, input prompt will be set to __record__.main_input or `Select.RecordInput` .\n",
            "✅ In Answer Relevance, input response will be set to __record__.main_output or `Select.RecordOutput` .\n"
          ]
        }
      ]
    },
    {
      "cell_type": "code",
      "execution_count": 7,
      "metadata": {
        "id": "_I758Cya144L",
        "colab": {
          "base_uri": "https://localhost:8080/"
        },
        "outputId": "724ea56e-17ba-47b7-b892-f354174031c7"
      },
      "outputs": [
        {
          "output_type": "stream",
          "name": "stdout",
          "text": [
            "Recorders instantiated successfully.\n"
          ]
        }
      ],
      "source": [
        "# @title Setup evaluation for each prompts\n",
        "# @markdown run this cell and you should see **\"Recorders instantiated successfully.\"**\n",
        "from trulens_eval import TruBasicApp\n",
        "BPoT_recorder = TruBasicApp(BPoT_response, app_id=\"BPoT\", feedbacks=feedbacks)\n",
        "CoT_recorder = TruBasicApp(CoT_response, app_id=\"CoT\", feedbacks=feedbacks)\n",
        "Blackbox_recorder = TruBasicApp(Blackbox_response, app_id=\"Blackbox\", feedbacks=feedbacks)\n",
        "\n",
        "print(\"Recorders instantiated successfully.\")"
      ]
    },
    {
      "cell_type": "code",
      "source": [
        "Blackbox_recorder"
      ],
      "metadata": {
        "colab": {
          "base_uri": "https://localhost:8080/"
        },
        "id": "X4EvyyNL5aIm",
        "outputId": "71fd8302-16e1-4c04-bb7a-4790fb59c59f"
      },
      "execution_count": 8,
      "outputs": [
        {
          "output_type": "execute_result",
          "data": {
            "text/plain": [
              "TruBasicApp(tru_class_info=trulens_eval.tru_basic_app.TruBasicApp, app_id='Blackbox', tags='-', metadata={}, feedback_definitions=[], feedback_mode=<FeedbackMode.WITH_APP_THREAD: 'with_app_thread'>, root_class=trulens_eval.tru_basic_app.TruWrapperApp, app=<trulens_eval.tru_basic_app.TruWrapperApp object at 0x7ebd94cad5a0>, initial_app_loader_dump=None, app_extra_json={}, feedbacks=[Feedback(tru_class_info=trulens_eval.feedback.feedback.Feedback, implementation=Method(obj=Obj(cls=trulens_eval.feedback.provider.openai.OpenAI, id=139352057416656, init_bindings=Bindings(args=(), kwargs={'tru_class_info': {'name': 'OpenAI', 'module': {'package_name': 'trulens_eval.feedback.provider', 'module_name': 'trulens_eval.feedback.provider.openai'}, 'bases': [{'name': 'OpenAI', 'module': {'package_name': 'trulens_eval.feedback.provider', 'module_name': 'trulens_eval.feedback.provider.openai'}, 'bases': None}, {'name': 'LLMProvider', 'module': {'package_name': 'trulens_eval.feedback.provider', 'module_name': 'trulens_eval.feedback.provider.base'}, 'bases': None}, {'name': 'Provider', 'module': {'package_name': 'trulens_eval.feedback.provider', 'module_name': 'trulens_eval.feedback.provider.base'}, 'bases': None}, {'name': 'SerialModel', 'module': {'package_name': 'trulens_eval.utils', 'module_name': 'trulens_eval.utils.serial'}, 'bases': None}, {'name': 'WithClassInfo', 'module': {'package_name': 'trulens_eval.utils', 'module_name': 'trulens_eval.utils.pyschema'}, 'bases': None}, {'name': 'BaseModel', 'module': {'package_name': 'pydantic', 'module_name': 'pydantic.main'}, 'bases': None}, {'name': 'ABC', 'module': {'package_name': '', 'module_name': 'abc'}, 'bases': None}, {'name': 'object', 'module': {'package_name': '', 'module_name': 'builtins'}, 'bases': None}]}, 'endpoint': {'tru_class_info': {'name': 'OpenAIEndpoint', 'module': {'package_name': 'trulens_eval.feedback.provider.endpoint', 'module_name': 'trulens_eval.feedback.provider.endpoint.openai'}, 'bases': [{'name': 'OpenAIEndpoint', 'module': {'package_name': 'trulens_eval.feedback.provider.endpoint', 'module_name': 'trulens_eval.feedback.provider.endpoint.openai'}, 'bases': None}, {'name': 'Endpoint', 'module': {'package_name': 'trulens_eval.feedback.provider.endpoint', 'module_name': 'trulens_eval.feedback.provider.endpoint.base'}, 'bases': None}, {'name': 'SerialModel', 'module': {'package_name': 'trulens_eval.utils', 'module_name': 'trulens_eval.utils.serial'}, 'bases': None}, {'name': 'WithClassInfo', 'module': {'package_name': 'trulens_eval.utils', 'module_name': 'trulens_eval.utils.pyschema'}, 'bases': None}, {'name': 'BaseModel', 'module': {'package_name': 'pydantic', 'module_name': 'pydantic.main'}, 'bases': None}, {'name': 'SingletonPerName', 'module': {'package_name': 'trulens_eval.utils', 'module_name': 'trulens_eval.utils.python'}, 'bases': None}, {'name': 'Generic', 'module': {'package_name': '', 'module_name': 'typing'}, 'bases': None}, {'name': 'object', 'module': {'package_name': '', 'module_name': 'builtins'}, 'bases': None}]}, 'name': 'openai', 'rpm': 60.0, 'retries': 3, 'client': {'client_cls': {'name': 'OpenAI', 'module': {'package_name': 'openai', 'module_name': 'openai'}, 'bases': None}, 'client_kwargs': {'organization': None, 'base_url': 'https://api.openai.com/v1/', 'timeout': {'connect': 5.0, 'read': 600.0, 'write': 600.0, 'pool': 600.0}, 'max_retries': 2, '_strict_response_validation': False}}}, 'model_engine': 'gpt-3.5-turbo'})), name='relevance_with_cot_reasons'), aggregator=Function(module=Module(package_name='numpy', module_name='numpy'), cls=None, name='mean'), feedback_definition_id='feedback_definition_hash_23c955ad6a1a68526bdefd02294666aa', selectors={'prompt': Lens().__record__.main_input, 'response': Lens().__record__.main_output}, supplied_name='Answer Relevance', imp=<bound method LLMProvider.relevance_with_cot_reasons of OpenAI(tru_class_info=trulens_eval.feedback.provider.openai.OpenAI, endpoint=OpenAIEndpoint(tru_class_info=trulens_eval.feedback.provider.endpoint.openai.OpenAIEndpoint, name='openai', rpm=60.0, retries=3, post_headers={}, pace=<queue.Queue object at 0x7ebd6bb24160>, global_callback=OpenAICallback(cost=Cost(n_requests=0, n_successful_requests=0, n_classes=0, n_tokens=0, n_stream_chunks=0, n_prompt_tokens=0, n_completion_tokens=0, cost=0.0), langchain_handler=Tokens Used: 0\n",
              "\tPrompt Tokens: 0\n",
              "\tCompletion Tokens: 0\n",
              "Successful Requests: 0\n",
              "Total Cost (USD): $0.0, chunks=[]), callback_class=<class 'trulens_eval.feedback.provider.endpoint.openai.OpenAICallback'>, callback_name='callback_openai', pace_thread=<Thread(Thread-11 (keep_pace), started daemon 139352020747840)>, client=OpenAIClient(client=<openai.OpenAI object at 0x7ebd6bcdfe80>, client_cls=openai.OpenAI, client_kwargs={'organization': None, 'base_url': URL('https://api.openai.com/v1/'), 'timeout': Timeout(connect=5.0, read=600.0, write=600.0, pool=600.0), 'max_retries': 2, '_strict_response_validation': False})), model_engine='gpt-3.5-turbo')>, agg=<function mean at 0x7ebdbcd20c10>, higher_is_better=True)], tru=<trulens_eval.tru.Tru object at 0x7ebda59a3a90>, db=SqlAlchemyDB(redact_keys=False, engine_params={'url': 'sqlite:///default.sqlite', 'pool_size': 10, 'max_overflow': 2, 'pool_recycle': 300, 'pool_pre_ping': True, 'pool_use_lifo': True}, session_params={}, engine=Engine(sqlite:///default.sqlite), Session=sessionmaker(class_='Session', bind=Engine(sqlite:///default.sqlite), autoflush=True, expire_on_commit=True)), instrument=<trulens_eval.tru_basic_app.TruBasicCallableInstrument object at 0x7ebd6bb27220>, recording_contexts=<ContextVar name='recording_contexts' at 0x7ebd6b1a4d10>, instrumented_methods={139352710239648: {<function TruWrapperApp._call at 0x7ebd6d1d8820>: Lens().app}})"
            ]
          },
          "metadata": {},
          "execution_count": 8
        }
      ]
    },
    {
      "cell_type": "code",
      "execution_count": 9,
      "metadata": {
        "id": "pyNMXOTm144L",
        "colab": {
          "base_uri": "https://localhost:8080/"
        },
        "cellView": "form",
        "outputId": "e511f984-abfd-4141-ddfc-3995601bec50"
      },
      "outputs": [
        {
          "output_type": "stream",
          "name": "stdout",
          "text": [
            "Total 10 cases entered for evaluation.\n"
          ]
        }
      ],
      "source": [
        "# @title Enter Clinical Cases for evaluation\n",
        "# @markdown 10 cases for each prompt should be enough\n",
        "\n",
        "case_1 = \"A 35-year-old female presents with a 6-month history of recurrent abdominal pain and altered bowel habits. She reports that her abdominal pain is often relieved by defecation and is frequently associated with a change in the frequency of stool. She mentions experiencing periods of diarrhea, often alternating with constipation. The patient notes that her symptoms worsen during periods of stress and have a significant impact on her quality of life. She denies any recent travel, antibiotic use, or familial history of gastrointestinal diseases. She also mentions occasional bloating but no blood in the stool or significant weight loss.\" # @param {type:\"string\"}\n",
        "case_2 = \"A 45-year-old male reports a long-standing history of infrequent bowel movements, describing less than three bowel movements per week. He often experiences straining during defecation and describes his stools as hard and lumpy. The patient denies any presence of blood in his stools or any significant abdominal pain. He mentions a low-fiber diet and minimal physical activity in his daily routine. Despite feeling as if there's incomplete evacuation after a bowel movement, he has not used any over-the-counter laxatives. There's no history of any gastrointestinal diseases in his family.\" # @param {type:\"string\"}\n",
        "case_3 = \"A 28-year-old female presents with a 4-month history of frequent, loose, and watery stools without pain. She reports having bowel movements more than three times a day, often with a sudden and urgent need to defecate. The patient denies any recent changes in diet, travel history, or use of medications that could cause diarrhea. She does not report any night-time symptoms, weight loss, or blood in the stool. She mentions a stressful job environment but no significant personal or family history of gastrointestinal disorders.\" # @param {type:\"string\"}\n",
        "case_4 = \"A 50-year-old male reports a persistent sense of abdominal fullness and bloating for the past year, worsening over the day and often becoming more noticeable in the evenings. He denies any significant changes in his bowel habits, such as diarrhea or constipation, and has not observed any weight changes. The patient mentions that his abdominal discomfort slightly improves with bowel movements. He has tried various dietary changes, including reducing gluten and lactose intake, but with minimal relief. There is no history of gastrointestinal diseases in his family, and he is not on any medications known to cause bloating.\" # @param {type:\"string\"}\n",
        "case_5 = \"A 38-year-old female presents with a 9-month history of non-specific gastrointestinal symptoms. She describes a combination of occasional mild abdominal pain, bloating, and a feeling of incomplete evacuation after bowel movements. Her bowel habits alternate between mild constipation and normal, without any clear patterns. The patient denies any severe or persistent diarrhea, significant weight loss, blood in the stool, or a family history of gastrointestinal diseases. She mentions that her symptoms do not consistently correlate with specific foods, stress levels, or physical activity.\" # @param {type:\"string\"}\n",
        "case_6 = \"A 55-year-old male with chronic back pain has been on long-term opioid therapy. He reports a significant decrease in bowel movement frequency since starting the opioids, currently experiencing bowel movements only once or twice a week. The patient describes straining during defecation, hard stools, and occasional abdominal discomfort. He denies any nausea, vomiting, or blood in the stool. His medical history is significant for hypertension and type 2 diabetes, both managed with medications. The patient has tried increasing water and fiber intake without substantial relief.\" # @param {type:\"string\"}\n",
        "case_7 = \"A 23-year-old university student presents with intermittent abdominal pain and irregular bowel habits for the past eight months. She reports experiencing both constipation and diarrhea, often linked to her exam periods and other stressors. The abdominal pain is typically crampy in nature and is partially relieved after a bowel movement. She denies any nocturnal symptoms, significant weight loss, or a family history of gastrointestinal disorders. The patient has tried stress reduction techniques and dietary adjustments, including increasing fiber intake, with limited success.\" # @param {type:\"string\"}\n",
        "case_8 = \"A 67-year-old retired teacher, female, reports a persistent difficulty with bowel movements for over a year. She describes her bowel movements as infrequent, occurring roughly twice a week, and often accompanied by straining and a sensation of incomplete evacuation. The patient mentions that her stools are usually hard and dry. She has a history of hypothyroidism, which is currently managed with medication. She also mentions her sedentary lifestyle and a diet low in fruits and vegetables. The patient has occasionally used over-the-counter stool softeners, with variable relief.\" # @param {type:\"string\"}\n",
        "case_9 = \"A 31-year-old software developer, male, comes in with complaints of frequent, sudden bowel movements without associated pain. He reports experiencing loose, watery stools up to four times a day for several months. The patient mentions these symptoms occur regardless of diet and are not accompanied by nocturnal symptoms, weight loss, or blood in the stool. He recalls no significant travel or dietary changes prior to the onset of symptoms. The patient has a high-stress job but no personal or family history of gastrointestinal disorders.\" # @param {type:\"string\"}\n",
        "case_10 = \"A 40-year-old female, working as a graphic designer, presents with complaints of chronic abdominal bloating and a sensation of distension for over 6 months. She notes that these symptoms are more pronounced in the evenings and often fluctuate throughout the month. The patient denies significant alterations in her bowel habits, such as constipation or diarrhea, and reports no weight loss, vomiting, or blood in the stool. She has tried various over-the-counter anti-gas medications, with little to no relief. She follows a vegetarian diet and exercises regularly.\" # @param {type:\"string\"}\n",
        "\n",
        "input_cases = [case_1, case_2, case_3, case_4, case_5, case_6, case_7, case_8, case_9, case_10]\n",
        "\n",
        "# Filter out empty cases\n",
        "entered_cases = [case for case in input_cases if case.strip()]\n",
        "\n",
        "# Print the total number of entered cases\n",
        "print(f\"Total {len(entered_cases)} cases entered for evaluation.\")\n"
      ]
    },
    {
      "cell_type": "markdown",
      "source": [
        "## Running and Accessing the TruLens Dashboard\n",
        "\n",
        "The TruLens Dashboard is an interactive tool designed for medical professionals to visualize and analyze data from your TruLens application. It provides insights into clinical cases, model responses, and other relevant metrics that can aid in medical research and decision-making.\n",
        "\n",
        "## Steps to Start and Access the Dashboard\n",
        "\n",
        "1. **Run the Dashboard**: Execute the code cell containing `tru.run_dashboard()`. This starts the dashboard and generates a unique URL and an IP address specific to your session.\n",
        "\n",
        "2. **Unique URL and IP Address**:\n",
        "   - Each user will receive a **different IP address** and URL. This ensures a secure and personalized experience.\n",
        "   - The output will look like this:\n",
        "     ```\n",
        "     Starting dashboard ...\n",
        "     npx: installed 22 in 4.982s\n",
        "\n",
        "     Go to this URL: https://your-unique-dashboard-url.loca.lt\n",
        "     Submit this IP Address: [Your Unique IP Address]\n",
        "     ```\n",
        "   - Copy the URL and IP address as they are unique to your current session.\n",
        "\n",
        "3. **Access the Dashboard**:\n",
        "   - Open the URL in a new browser tab.\n",
        "   - If prompted, enter the IP address you received. This step is crucial for accessing your dashboard securely.\n",
        "\n",
        "4. **Interact with the Dashboard**: Explore the dashboard to view and analyze the data relevant to your medical inquiries.\n",
        "\n",
        "*Note: The dashboard is a secure environment for your data analysis. Do not share your unique URL and IP address with others, as it may contain sensitive information.*\n",
        "\n"
      ],
      "metadata": {
        "id": "ZmVFvK7Z_MGv"
      }
    },
    {
      "cell_type": "code",
      "source": [
        "# @title Run this cell to start Trulens Dashboard\n",
        "tru.reset_database()\n",
        "tru.run_dashboard()\n"
      ],
      "metadata": {
        "colab": {
          "base_uri": "https://localhost:8080/"
        },
        "id": "Baqd1ZXN--5-",
        "outputId": "148aa94b-9194-4e6b-e8d4-5cb0cd07fc5a"
      },
      "execution_count": 10,
      "outputs": [
        {
          "output_type": "stream",
          "name": "stdout",
          "text": [
            "Starting dashboard ...\n",
            "Config file already exists. Skipping writing process.\n",
            "Credentials file already exists. Skipping writing process.\n",
            "npx: installed 22 in 2.645s\n",
            "\n",
            "Go to this url and submit the ip given here. your url is: https://busy-points-vanish.loca.lt\n",
            "\n",
            "  Submit this IP Address: 34.91.65.157\n"
          ]
        },
        {
          "output_type": "execute_result",
          "data": {
            "text/plain": [
              "<Popen: returncode: None args: ['streamlit', 'run', '--server.headless=True'...>"
            ]
          },
          "metadata": {},
          "execution_count": 10
        },
        {
          "output_type": "stream",
          "name": "stdout",
          "text": [
            "\n"
          ]
        }
      ]
    },
    {
      "cell_type": "code",
      "execution_count": 21,
      "metadata": {
        "id": "gUeasYb-144L",
        "outputId": "6d99a441-4b8e-4652-f980-1b9fc3f754cf",
        "colab": {
          "base_uri": "https://localhost:8080/"
        }
      },
      "outputs": [
        {
          "output_type": "stream",
          "name": "stderr",
          "text": [
            "WARNING:trulens_eval.app:A new object of type <class 'trulens_eval.tru_basic_app.TruWrapperApp'> at 0x7ebd94cae140 is calling an instrumented method <function TruWrapperApp._call at 0x7ebd6d1d8820>. The path of this call may be incorrect.\n",
            "WARNING:trulens_eval.app:Guessing path of new object is app based on other object (0x7ebd94cae020) using this function.\n"
          ]
        },
        {
          "output_type": "stream",
          "name": "stdout",
          "text": [
            "Processing with BPoT: A 35-year-old female presents with a 6-month history of recurrent abdominal pain and altered bowel habits. She reports that her abdominal pain is often relieved by defecation and is frequently associated with a change in the frequency of stool. She mentions experiencing periods of diarrhea, often alternating with constipation. The patient notes that her symptoms worsen during periods of stress and have a significant impact on her quality of life. She denies any recent travel, antibiotic use, or familial history of gastrointestinal diseases. She also mentions occasional bloating but no blood in the stool or significant weight loss.\n"
          ]
        },
        {
          "output_type": "stream",
          "name": "stderr",
          "text": [
            "WARNING:trulens_eval.tru:App {app_id} was not present in database. Adding it.\n"
          ]
        },
        {
          "output_type": "stream",
          "name": "stdout",
          "text": [
            "Processing with BPoT: A 45-year-old male reports a long-standing history of infrequent bowel movements, describing less than three bowel movements per week. He often experiences straining during defecation and describes his stools as hard and lumpy. The patient denies any presence of blood in his stools or any significant abdominal pain. He mentions a low-fiber diet and minimal physical activity in his daily routine. Despite feeling as if there's incomplete evacuation after a bowel movement, he has not used any over-the-counter laxatives. There's no history of any gastrointestinal diseases in his family.\n",
            "Processing with BPoT: A 28-year-old female presents with a 4-month history of frequent, loose, and watery stools without pain. She reports having bowel movements more than three times a day, often with a sudden and urgent need to defecate. The patient denies any recent changes in diet, travel history, or use of medications that could cause diarrhea. She does not report any night-time symptoms, weight loss, or blood in the stool. She mentions a stressful job environment but no significant personal or family history of gastrointestinal disorders.\n",
            "Processing with BPoT: A 50-year-old male reports a persistent sense of abdominal fullness and bloating for the past year, worsening over the day and often becoming more noticeable in the evenings. He denies any significant changes in his bowel habits, such as diarrhea or constipation, and has not observed any weight changes. The patient mentions that his abdominal discomfort slightly improves with bowel movements. He has tried various dietary changes, including reducing gluten and lactose intake, but with minimal relief. There is no history of gastrointestinal diseases in his family, and he is not on any medications known to cause bloating.\n",
            "Processing with BPoT: A 38-year-old female presents with a 9-month history of non-specific gastrointestinal symptoms. She describes a combination of occasional mild abdominal pain, bloating, and a feeling of incomplete evacuation after bowel movements. Her bowel habits alternate between mild constipation and normal, without any clear patterns. The patient denies any severe or persistent diarrhea, significant weight loss, blood in the stool, or a family history of gastrointestinal diseases. She mentions that her symptoms do not consistently correlate with specific foods, stress levels, or physical activity.\n",
            "Processing with BPoT: A 55-year-old male with chronic back pain has been on long-term opioid therapy. He reports a significant decrease in bowel movement frequency since starting the opioids, currently experiencing bowel movements only once or twice a week. The patient describes straining during defecation, hard stools, and occasional abdominal discomfort. He denies any nausea, vomiting, or blood in the stool. His medical history is significant for hypertension and type 2 diabetes, both managed with medications. The patient has tried increasing water and fiber intake without substantial relief.\n",
            "Processing with BPoT: A 23-year-old university student presents with intermittent abdominal pain and irregular bowel habits for the past eight months. She reports experiencing both constipation and diarrhea, often linked to her exam periods and other stressors. The abdominal pain is typically crampy in nature and is partially relieved after a bowel movement. She denies any nocturnal symptoms, significant weight loss, or a family history of gastrointestinal disorders. The patient has tried stress reduction techniques and dietary adjustments, including increasing fiber intake, with limited success.\n",
            "Processing with BPoT: A 67-year-old retired teacher, female, reports a persistent difficulty with bowel movements for over a year. She describes her bowel movements as infrequent, occurring roughly twice a week, and often accompanied by straining and a sensation of incomplete evacuation. The patient mentions that her stools are usually hard and dry. She has a history of hypothyroidism, which is currently managed with medication. She also mentions her sedentary lifestyle and a diet low in fruits and vegetables. The patient has occasionally used over-the-counter stool softeners, with variable relief.\n",
            "Processing with BPoT: A 31-year-old software developer, male, comes in with complaints of frequent, sudden bowel movements without associated pain. He reports experiencing loose, watery stools up to four times a day for several months. The patient mentions these symptoms occur regardless of diet and are not accompanied by nocturnal symptoms, weight loss, or blood in the stool. He recalls no significant travel or dietary changes prior to the onset of symptoms. The patient has a high-stress job but no personal or family history of gastrointestinal disorders.\n",
            "Processing with BPoT: A 40-year-old female, working as a graphic designer, presents with complaints of chronic abdominal bloating and a sensation of distension for over 6 months. She notes that these symptoms are more pronounced in the evenings and often fluctuate throughout the month. The patient denies significant alterations in her bowel habits, such as constipation or diarrhea, and reports no weight loss, vomiting, or blood in the stool. She has tried various over-the-counter anti-gas medications, with little to no relief. She follows a vegetarian diet and exercises regularly.\n",
            "Porcesssing with CoT: A 35-year-old female presents with a 6-month history of recurrent abdominal pain and altered bowel habits. She reports that her abdominal pain is often relieved by defecation and is frequently associated with a change in the frequency of stool. She mentions experiencing periods of diarrhea, often alternating with constipation. The patient notes that her symptoms worsen during periods of stress and have a significant impact on her quality of life. She denies any recent travel, antibiotic use, or familial history of gastrointestinal diseases. She also mentions occasional bloating but no blood in the stool or significant weight loss.\n"
          ]
        },
        {
          "output_type": "stream",
          "name": "stderr",
          "text": [
            "WARNING:trulens_eval.tru:App {app_id} was not present in database. Adding it.\n"
          ]
        },
        {
          "output_type": "stream",
          "name": "stdout",
          "text": [
            "Porcesssing with CoT: A 45-year-old male reports a long-standing history of infrequent bowel movements, describing less than three bowel movements per week. He often experiences straining during defecation and describes his stools as hard and lumpy. The patient denies any presence of blood in his stools or any significant abdominal pain. He mentions a low-fiber diet and minimal physical activity in his daily routine. Despite feeling as if there's incomplete evacuation after a bowel movement, he has not used any over-the-counter laxatives. There's no history of any gastrointestinal diseases in his family.\n",
            "Porcesssing with CoT: A 28-year-old female presents with a 4-month history of frequent, loose, and watery stools without pain. She reports having bowel movements more than three times a day, often with a sudden and urgent need to defecate. The patient denies any recent changes in diet, travel history, or use of medications that could cause diarrhea. She does not report any night-time symptoms, weight loss, or blood in the stool. She mentions a stressful job environment but no significant personal or family history of gastrointestinal disorders.\n",
            "Porcesssing with CoT: A 50-year-old male reports a persistent sense of abdominal fullness and bloating for the past year, worsening over the day and often becoming more noticeable in the evenings. He denies any significant changes in his bowel habits, such as diarrhea or constipation, and has not observed any weight changes. The patient mentions that his abdominal discomfort slightly improves with bowel movements. He has tried various dietary changes, including reducing gluten and lactose intake, but with minimal relief. There is no history of gastrointestinal diseases in his family, and he is not on any medications known to cause bloating.\n",
            "Porcesssing with CoT: A 38-year-old female presents with a 9-month history of non-specific gastrointestinal symptoms. She describes a combination of occasional mild abdominal pain, bloating, and a feeling of incomplete evacuation after bowel movements. Her bowel habits alternate between mild constipation and normal, without any clear patterns. The patient denies any severe or persistent diarrhea, significant weight loss, blood in the stool, or a family history of gastrointestinal diseases. She mentions that her symptoms do not consistently correlate with specific foods, stress levels, or physical activity.\n",
            "Porcesssing with CoT: A 55-year-old male with chronic back pain has been on long-term opioid therapy. He reports a significant decrease in bowel movement frequency since starting the opioids, currently experiencing bowel movements only once or twice a week. The patient describes straining during defecation, hard stools, and occasional abdominal discomfort. He denies any nausea, vomiting, or blood in the stool. His medical history is significant for hypertension and type 2 diabetes, both managed with medications. The patient has tried increasing water and fiber intake without substantial relief.\n",
            "Porcesssing with CoT: A 23-year-old university student presents with intermittent abdominal pain and irregular bowel habits for the past eight months. She reports experiencing both constipation and diarrhea, often linked to her exam periods and other stressors. The abdominal pain is typically crampy in nature and is partially relieved after a bowel movement. She denies any nocturnal symptoms, significant weight loss, or a family history of gastrointestinal disorders. The patient has tried stress reduction techniques and dietary adjustments, including increasing fiber intake, with limited success.\n",
            "Porcesssing with CoT: A 67-year-old retired teacher, female, reports a persistent difficulty with bowel movements for over a year. She describes her bowel movements as infrequent, occurring roughly twice a week, and often accompanied by straining and a sensation of incomplete evacuation. The patient mentions that her stools are usually hard and dry. She has a history of hypothyroidism, which is currently managed with medication. She also mentions her sedentary lifestyle and a diet low in fruits and vegetables. The patient has occasionally used over-the-counter stool softeners, with variable relief.\n",
            "Porcesssing with CoT: A 31-year-old software developer, male, comes in with complaints of frequent, sudden bowel movements without associated pain. He reports experiencing loose, watery stools up to four times a day for several months. The patient mentions these symptoms occur regardless of diet and are not accompanied by nocturnal symptoms, weight loss, or blood in the stool. He recalls no significant travel or dietary changes prior to the onset of symptoms. The patient has a high-stress job but no personal or family history of gastrointestinal disorders.\n",
            "Porcesssing with CoT: A 40-year-old female, working as a graphic designer, presents with complaints of chronic abdominal bloating and a sensation of distension for over 6 months. She notes that these symptoms are more pronounced in the evenings and often fluctuate throughout the month. The patient denies significant alterations in her bowel habits, such as constipation or diarrhea, and reports no weight loss, vomiting, or blood in the stool. She has tried various over-the-counter anti-gas medications, with little to no relief. She follows a vegetarian diet and exercises regularly.\n",
            "Processing with Blackbox: A 35-year-old female presents with a 6-month history of recurrent abdominal pain and altered bowel habits. She reports that her abdominal pain is often relieved by defecation and is frequently associated with a change in the frequency of stool. She mentions experiencing periods of diarrhea, often alternating with constipation. The patient notes that her symptoms worsen during periods of stress and have a significant impact on her quality of life. She denies any recent travel, antibiotic use, or familial history of gastrointestinal diseases. She also mentions occasional bloating but no blood in the stool or significant weight loss.\n",
            "Processing with Blackbox: A 45-year-old male reports a long-standing history of infrequent bowel movements, describing less than three bowel movements per week. He often experiences straining during defecation and describes his stools as hard and lumpy. The patient denies any presence of blood in his stools or any significant abdominal pain. He mentions a low-fiber diet and minimal physical activity in his daily routine. Despite feeling as if there's incomplete evacuation after a bowel movement, he has not used any over-the-counter laxatives. There's no history of any gastrointestinal diseases in his family.\n",
            "Processing with Blackbox: A 28-year-old female presents with a 4-month history of frequent, loose, and watery stools without pain. She reports having bowel movements more than three times a day, often with a sudden and urgent need to defecate. The patient denies any recent changes in diet, travel history, or use of medications that could cause diarrhea. She does not report any night-time symptoms, weight loss, or blood in the stool. She mentions a stressful job environment but no significant personal or family history of gastrointestinal disorders.\n",
            "Processing with Blackbox: A 50-year-old male reports a persistent sense of abdominal fullness and bloating for the past year, worsening over the day and often becoming more noticeable in the evenings. He denies any significant changes in his bowel habits, such as diarrhea or constipation, and has not observed any weight changes. The patient mentions that his abdominal discomfort slightly improves with bowel movements. He has tried various dietary changes, including reducing gluten and lactose intake, but with minimal relief. There is no history of gastrointestinal diseases in his family, and he is not on any medications known to cause bloating.\n",
            "Processing with Blackbox: A 38-year-old female presents with a 9-month history of non-specific gastrointestinal symptoms. She describes a combination of occasional mild abdominal pain, bloating, and a feeling of incomplete evacuation after bowel movements. Her bowel habits alternate between mild constipation and normal, without any clear patterns. The patient denies any severe or persistent diarrhea, significant weight loss, blood in the stool, or a family history of gastrointestinal diseases. She mentions that her symptoms do not consistently correlate with specific foods, stress levels, or physical activity.\n",
            "Processing with Blackbox: A 55-year-old male with chronic back pain has been on long-term opioid therapy. He reports a significant decrease in bowel movement frequency since starting the opioids, currently experiencing bowel movements only once or twice a week. The patient describes straining during defecation, hard stools, and occasional abdominal discomfort. He denies any nausea, vomiting, or blood in the stool. His medical history is significant for hypertension and type 2 diabetes, both managed with medications. The patient has tried increasing water and fiber intake without substantial relief.\n",
            "Processing with Blackbox: A 23-year-old university student presents with intermittent abdominal pain and irregular bowel habits for the past eight months. She reports experiencing both constipation and diarrhea, often linked to her exam periods and other stressors. The abdominal pain is typically crampy in nature and is partially relieved after a bowel movement. She denies any nocturnal symptoms, significant weight loss, or a family history of gastrointestinal disorders. The patient has tried stress reduction techniques and dietary adjustments, including increasing fiber intake, with limited success.\n",
            "Processing with Blackbox: A 67-year-old retired teacher, female, reports a persistent difficulty with bowel movements for over a year. She describes her bowel movements as infrequent, occurring roughly twice a week, and often accompanied by straining and a sensation of incomplete evacuation. The patient mentions that her stools are usually hard and dry. She has a history of hypothyroidism, which is currently managed with medication. She also mentions her sedentary lifestyle and a diet low in fruits and vegetables. The patient has occasionally used over-the-counter stool softeners, with variable relief.\n",
            "Processing with Blackbox: A 31-year-old software developer, male, comes in with complaints of frequent, sudden bowel movements without associated pain. He reports experiencing loose, watery stools up to four times a day for several months. The patient mentions these symptoms occur regardless of diet and are not accompanied by nocturnal symptoms, weight loss, or blood in the stool. He recalls no significant travel or dietary changes prior to the onset of symptoms. The patient has a high-stress job but no personal or family history of gastrointestinal disorders.\n",
            "Processing with Blackbox: A 40-year-old female, working as a graphic designer, presents with complaints of chronic abdominal bloating and a sensation of distension for over 6 months. She notes that these symptoms are more pronounced in the evenings and often fluctuate throughout the month. The patient denies significant alterations in her bowel habits, such as constipation or diarrhea, and reports no weight loss, vomiting, or blood in the stool. She has tried various over-the-counter anti-gas medications, with little to no relief. She follows a vegetarian diet and exercises regularly.\n"
          ]
        }
      ],
      "source": [
        "# # Iterate through the cases and evaluate with each recorder\n",
        "# for case in entered_cases:\n",
        "#     # print(\"Processing with BPoT:\", case)\n",
        "#     # BPoT_recorder.app(case)\n",
        "\n",
        "#     # print(\"Processing with CoT:\", case)\n",
        "#     # CoT_recorder.app(case)\n",
        "\n",
        "with BPoT_recorder as recording:\n",
        "  for case in entered_cases:\n",
        "    print(\"Processing with BPoT:\", case)\n",
        "    BPoT_recorder.app(case)\n",
        "\n",
        "with CoT_recorder as recording:\n",
        "  for case in entered_cases:\n",
        "    print(\"Porcesssing with CoT:\", case)\n",
        "    CoT_recorder.app(case)\n",
        "\n",
        "with Blackbox_recorder as recording:\n",
        "  for case in entered_cases:\n",
        "    print(\"Processing with Blackbox:\", case)\n",
        "    Blackbox_recorder.app(case)\n",
        "\n",
        "\n"
      ]
    },
    {
      "cell_type": "markdown",
      "metadata": {
        "id": "qMEKnXeF144M"
      },
      "source": [
        "## Explore in a Dashboard"
      ]
    },
    {
      "cell_type": "code",
      "execution_count": 22,
      "metadata": {
        "id": "1u_iwRR_144M",
        "outputId": "b46c6a8c-123e-4f88-e600-547edc4f6523",
        "colab": {
          "base_uri": "https://localhost:8080/"
        }
      },
      "outputs": [
        {
          "output_type": "stream",
          "name": "stdout",
          "text": [
            "Starting dashboard ...\n",
            "Config file already exists. Skipping writing process.\n",
            "Credentials file already exists. Skipping writing process.\n",
            "Dashboard already running at path:   Submit this IP Address: 34.91.65.157\n",
            "\n"
          ]
        },
        {
          "output_type": "execute_result",
          "data": {
            "text/plain": [
              "<Popen: returncode: None args: ['streamlit', 'run', '--server.headless=True'...>"
            ]
          },
          "metadata": {},
          "execution_count": 22
        }
      ],
      "source": [
        "tru.run_dashboard() # open a local streamlit app to explore\n",
        "\n",
        "# tru.stop_dashboard() # stop if needed"
      ]
    },
    {
      "cell_type": "markdown",
      "metadata": {
        "id": "nfnNXA8J144M"
      },
      "source": [
        "Alternatively, you can run `trulens-eval` from a command line in the same folder to start the dashboard."
      ]
    },
    {
      "cell_type": "markdown",
      "metadata": {
        "id": "n8bj55xh144M"
      },
      "source": [
        "## Or view results directly in your notebook"
      ]
    },
    {
      "cell_type": "code",
      "execution_count": 26,
      "metadata": {
        "id": "T1-xBC4E144M"
      },
      "outputs": [],
      "source": [
        "data = tru.get_records_and_feedback(app_ids=[]) # pass an empty list of app_ids to get all"
      ]
    },
    {
      "cell_type": "code",
      "source": [
        "print(type(data))"
      ],
      "metadata": {
        "id": "BqdiXST5fMvE",
        "outputId": "8cf1e747-dc1e-41c9-8912-553f41f68786",
        "colab": {
          "base_uri": "https://localhost:8080/"
        }
      },
      "execution_count": 59,
      "outputs": [
        {
          "output_type": "stream",
          "name": "stdout",
          "text": [
            "<class 'tuple'>\n"
          ]
        }
      ]
    },
    {
      "cell_type": "code",
      "source": [
        "data"
      ],
      "metadata": {
        "id": "CKvaBRS0gPj8",
        "outputId": "95eff9d2-653d-4ebe-a327-0fd7c7bd0007",
        "colab": {
          "base_uri": "https://localhost:8080/"
        }
      },
      "execution_count": 27,
      "outputs": [
        {
          "output_type": "execute_result",
          "data": {
            "text/plain": [
              "(      app_id                                           app_json  \\\n",
              " 0   Blackbox  {\"tru_class_info\": {\"name\": \"TruBasicApp\", \"mo...   \n",
              " 1   Blackbox  {\"tru_class_info\": {\"name\": \"TruBasicApp\", \"mo...   \n",
              " 2   Blackbox  {\"tru_class_info\": {\"name\": \"TruBasicApp\", \"mo...   \n",
              " 3   Blackbox  {\"tru_class_info\": {\"name\": \"TruBasicApp\", \"mo...   \n",
              " 4   Blackbox  {\"tru_class_info\": {\"name\": \"TruBasicApp\", \"mo...   \n",
              " 5   Blackbox  {\"tru_class_info\": {\"name\": \"TruBasicApp\", \"mo...   \n",
              " 6   Blackbox  {\"tru_class_info\": {\"name\": \"TruBasicApp\", \"mo...   \n",
              " 7   Blackbox  {\"tru_class_info\": {\"name\": \"TruBasicApp\", \"mo...   \n",
              " 8   Blackbox  {\"tru_class_info\": {\"name\": \"TruBasicApp\", \"mo...   \n",
              " 9   Blackbox  {\"tru_class_info\": {\"name\": \"TruBasicApp\", \"mo...   \n",
              " 10  Blackbox  {\"tru_class_info\": {\"name\": \"TruBasicApp\", \"mo...   \n",
              " 11  Blackbox  {\"tru_class_info\": {\"name\": \"TruBasicApp\", \"mo...   \n",
              " 12  Blackbox  {\"tru_class_info\": {\"name\": \"TruBasicApp\", \"mo...   \n",
              " 13  Blackbox  {\"tru_class_info\": {\"name\": \"TruBasicApp\", \"mo...   \n",
              " 14  Blackbox  {\"tru_class_info\": {\"name\": \"TruBasicApp\", \"mo...   \n",
              " 15  Blackbox  {\"tru_class_info\": {\"name\": \"TruBasicApp\", \"mo...   \n",
              " 16  Blackbox  {\"tru_class_info\": {\"name\": \"TruBasicApp\", \"mo...   \n",
              " 17  Blackbox  {\"tru_class_info\": {\"name\": \"TruBasicApp\", \"mo...   \n",
              " 18  Blackbox  {\"tru_class_info\": {\"name\": \"TruBasicApp\", \"mo...   \n",
              " 19  Blackbox  {\"tru_class_info\": {\"name\": \"TruBasicApp\", \"mo...   \n",
              " 20      BPoT  {\"tru_class_info\": {\"name\": \"TruBasicApp\", \"mo...   \n",
              " 21      BPoT  {\"tru_class_info\": {\"name\": \"TruBasicApp\", \"mo...   \n",
              " 22      BPoT  {\"tru_class_info\": {\"name\": \"TruBasicApp\", \"mo...   \n",
              " 23      BPoT  {\"tru_class_info\": {\"name\": \"TruBasicApp\", \"mo...   \n",
              " 24      BPoT  {\"tru_class_info\": {\"name\": \"TruBasicApp\", \"mo...   \n",
              " 25      BPoT  {\"tru_class_info\": {\"name\": \"TruBasicApp\", \"mo...   \n",
              " 26      BPoT  {\"tru_class_info\": {\"name\": \"TruBasicApp\", \"mo...   \n",
              " 27      BPoT  {\"tru_class_info\": {\"name\": \"TruBasicApp\", \"mo...   \n",
              " 28      BPoT  {\"tru_class_info\": {\"name\": \"TruBasicApp\", \"mo...   \n",
              " 29      BPoT  {\"tru_class_info\": {\"name\": \"TruBasicApp\", \"mo...   \n",
              " 30       CoT  {\"tru_class_info\": {\"name\": \"TruBasicApp\", \"mo...   \n",
              " 31       CoT  {\"tru_class_info\": {\"name\": \"TruBasicApp\", \"mo...   \n",
              " 32       CoT  {\"tru_class_info\": {\"name\": \"TruBasicApp\", \"mo...   \n",
              " 33       CoT  {\"tru_class_info\": {\"name\": \"TruBasicApp\", \"mo...   \n",
              " 34       CoT  {\"tru_class_info\": {\"name\": \"TruBasicApp\", \"mo...   \n",
              " 35       CoT  {\"tru_class_info\": {\"name\": \"TruBasicApp\", \"mo...   \n",
              " 36       CoT  {\"tru_class_info\": {\"name\": \"TruBasicApp\", \"mo...   \n",
              " 37       CoT  {\"tru_class_info\": {\"name\": \"TruBasicApp\", \"mo...   \n",
              " 38       CoT  {\"tru_class_info\": {\"name\": \"TruBasicApp\", \"mo...   \n",
              " 39       CoT  {\"tru_class_info\": {\"name\": \"TruBasicApp\", \"mo...   \n",
              " \n",
              "                                          type  \\\n",
              " 0   TruWrapperApp(trulens_eval.tru_basic_app)   \n",
              " 1   TruWrapperApp(trulens_eval.tru_basic_app)   \n",
              " 2   TruWrapperApp(trulens_eval.tru_basic_app)   \n",
              " 3   TruWrapperApp(trulens_eval.tru_basic_app)   \n",
              " 4   TruWrapperApp(trulens_eval.tru_basic_app)   \n",
              " 5   TruWrapperApp(trulens_eval.tru_basic_app)   \n",
              " 6   TruWrapperApp(trulens_eval.tru_basic_app)   \n",
              " 7   TruWrapperApp(trulens_eval.tru_basic_app)   \n",
              " 8   TruWrapperApp(trulens_eval.tru_basic_app)   \n",
              " 9   TruWrapperApp(trulens_eval.tru_basic_app)   \n",
              " 10  TruWrapperApp(trulens_eval.tru_basic_app)   \n",
              " 11  TruWrapperApp(trulens_eval.tru_basic_app)   \n",
              " 12  TruWrapperApp(trulens_eval.tru_basic_app)   \n",
              " 13  TruWrapperApp(trulens_eval.tru_basic_app)   \n",
              " 14  TruWrapperApp(trulens_eval.tru_basic_app)   \n",
              " 15  TruWrapperApp(trulens_eval.tru_basic_app)   \n",
              " 16  TruWrapperApp(trulens_eval.tru_basic_app)   \n",
              " 17  TruWrapperApp(trulens_eval.tru_basic_app)   \n",
              " 18  TruWrapperApp(trulens_eval.tru_basic_app)   \n",
              " 19  TruWrapperApp(trulens_eval.tru_basic_app)   \n",
              " 20  TruWrapperApp(trulens_eval.tru_basic_app)   \n",
              " 21  TruWrapperApp(trulens_eval.tru_basic_app)   \n",
              " 22  TruWrapperApp(trulens_eval.tru_basic_app)   \n",
              " 23  TruWrapperApp(trulens_eval.tru_basic_app)   \n",
              " 24  TruWrapperApp(trulens_eval.tru_basic_app)   \n",
              " 25  TruWrapperApp(trulens_eval.tru_basic_app)   \n",
              " 26  TruWrapperApp(trulens_eval.tru_basic_app)   \n",
              " 27  TruWrapperApp(trulens_eval.tru_basic_app)   \n",
              " 28  TruWrapperApp(trulens_eval.tru_basic_app)   \n",
              " 29  TruWrapperApp(trulens_eval.tru_basic_app)   \n",
              " 30  TruWrapperApp(trulens_eval.tru_basic_app)   \n",
              " 31  TruWrapperApp(trulens_eval.tru_basic_app)   \n",
              " 32  TruWrapperApp(trulens_eval.tru_basic_app)   \n",
              " 33  TruWrapperApp(trulens_eval.tru_basic_app)   \n",
              " 34  TruWrapperApp(trulens_eval.tru_basic_app)   \n",
              " 35  TruWrapperApp(trulens_eval.tru_basic_app)   \n",
              " 36  TruWrapperApp(trulens_eval.tru_basic_app)   \n",
              " 37  TruWrapperApp(trulens_eval.tru_basic_app)   \n",
              " 38  TruWrapperApp(trulens_eval.tru_basic_app)   \n",
              " 39  TruWrapperApp(trulens_eval.tru_basic_app)   \n",
              " \n",
              "                                        record_id  \\\n",
              " 0   record_hash_639ac9903eff9f630af18892373ff7f6   \n",
              " 1   record_hash_8a887afe1d1cec895d62e8abb7e5a52f   \n",
              " 2   record_hash_0bb2f3174ece543ebc289b92ca92a184   \n",
              " 3   record_hash_ac1e37878d611015c3f3eb72b63fb226   \n",
              " 4   record_hash_57d4a2e07d7b213dd2aa4c548726f4e6   \n",
              " 5   record_hash_1e5e4d2a45117bf1dbc82517f72540dc   \n",
              " 6   record_hash_157456a3bcc7b0c0660bd632b4a8c4f0   \n",
              " 7   record_hash_14672c54209a43f61219a01de22522d4   \n",
              " 8   record_hash_31fb4469861e15de48f33eeeaaa6b6c7   \n",
              " 9   record_hash_0983c9b1576c866d6cfafa81320d2ac3   \n",
              " 10  record_hash_ecda78f6a2d4aa996061d0512bfe46b8   \n",
              " 11  record_hash_795194ac0f9c6ff00187b5a740b2197b   \n",
              " 12  record_hash_630c8c5a69c0daf4667a040d5b23c6c0   \n",
              " 13  record_hash_5d08d82e20e94540b3e46ec5e19b1ddb   \n",
              " 14  record_hash_d21389de3514a8d5aacfdb21319fe2e8   \n",
              " 15  record_hash_25ccfc50d389be9d677eec7a2c3f4e9c   \n",
              " 16  record_hash_e61ca8d7aba5d389df71652e20e57a54   \n",
              " 17  record_hash_df9585444f01f72d4bddd4f1ad5fdf37   \n",
              " 18  record_hash_900a81fca236b9d0a5b1e2688858ad49   \n",
              " 19  record_hash_3c573a80b6415c4a9e8bf07dac1c8209   \n",
              " 20  record_hash_a9f465202bb734dca178be755f86fd1c   \n",
              " 21  record_hash_31d90a535e792090c455c0232329809a   \n",
              " 22  record_hash_21910fb68f852dd1d12c93c43f2228a3   \n",
              " 23  record_hash_20f2bd64af4320441c2ef6631a198fff   \n",
              " 24  record_hash_b57c8de4cb595d51ac4ee6c5c83eae60   \n",
              " 25  record_hash_bd2583f33308b2c075970d1d13f47599   \n",
              " 26  record_hash_8078db77397ea4704ef5533ebf5dbab4   \n",
              " 27  record_hash_094e09307ec18e26a40bc1770c14c939   \n",
              " 28  record_hash_4f980cfa99a6724d68689389057b7e80   \n",
              " 29  record_hash_7a9b48fd2cb6ce7bc6bae30768f32a95   \n",
              " 30  record_hash_80ff49edb5551dd1d38c9914d453aa6a   \n",
              " 31  record_hash_3488f8b75c80c8c73386ce2cb3ae4211   \n",
              " 32  record_hash_c56e37360ea3832f1dd4cf9c424d2211   \n",
              " 33  record_hash_602a8333a9ca96354a9e69439827d93e   \n",
              " 34  record_hash_f0bc5cc06e3c6e9aac9424c557ff6f3b   \n",
              " 35  record_hash_a612d083be5d23d844a3ff1b44e513f6   \n",
              " 36  record_hash_2c2004cd40bb4a119dff7e83a8c37014   \n",
              " 37  record_hash_7d2604785a1859c919840c6d25dad3f7   \n",
              " 38  record_hash_9d22e641aee62d075f78c3ac81e3d516   \n",
              " 39  record_hash_b0f3069497de262454f165e6bacbe681   \n",
              " \n",
              "                                                 input  \\\n",
              " 0   \"A 35-year-old female presents with a 6-month ...   \n",
              " 1   \"A 45-year-old male reports a long-standing hi...   \n",
              " 2   \"A 28-year-old female presents with a 4-month ...   \n",
              " 3   \"A 50-year-old male reports a persistent sense...   \n",
              " 4   \"A 38-year-old female presents with a 9-month ...   \n",
              " 5   \"A 55-year-old male with chronic back pain has...   \n",
              " 6   \"A 23-year-old university student presents wit...   \n",
              " 7   \"A 67-year-old retired teacher, female, report...   \n",
              " 8   \"A 31-year-old software developer, male, comes...   \n",
              " 9   \"A 40-year-old female, working as a graphic de...   \n",
              " 10  \"A 35-year-old female presents with a 6-month ...   \n",
              " 11  \"A 45-year-old male reports a long-standing hi...   \n",
              " 12  \"A 28-year-old female presents with a 4-month ...   \n",
              " 13  \"A 50-year-old male reports a persistent sense...   \n",
              " 14  \"A 38-year-old female presents with a 9-month ...   \n",
              " 15  \"A 55-year-old male with chronic back pain has...   \n",
              " 16  \"A 23-year-old university student presents wit...   \n",
              " 17  \"A 67-year-old retired teacher, female, report...   \n",
              " 18  \"A 31-year-old software developer, male, comes...   \n",
              " 19  \"A 40-year-old female, working as a graphic de...   \n",
              " 20  \"A 35-year-old female presents with a 6-month ...   \n",
              " 21  \"A 45-year-old male reports a long-standing hi...   \n",
              " 22  \"A 28-year-old female presents with a 4-month ...   \n",
              " 23  \"A 50-year-old male reports a persistent sense...   \n",
              " 24  \"A 38-year-old female presents with a 9-month ...   \n",
              " 25  \"A 55-year-old male with chronic back pain has...   \n",
              " 26  \"A 23-year-old university student presents wit...   \n",
              " 27  \"A 67-year-old retired teacher, female, report...   \n",
              " 28  \"A 31-year-old software developer, male, comes...   \n",
              " 29  \"A 40-year-old female, working as a graphic de...   \n",
              " 30  \"A 35-year-old female presents with a 6-month ...   \n",
              " 31  \"A 45-year-old male reports a long-standing hi...   \n",
              " 32  \"A 28-year-old female presents with a 4-month ...   \n",
              " 33  \"A 50-year-old male reports a persistent sense...   \n",
              " 34  \"A 38-year-old female presents with a 9-month ...   \n",
              " 35  \"A 55-year-old male with chronic back pain has...   \n",
              " 36  \"A 23-year-old university student presents wit...   \n",
              " 37  \"A 67-year-old retired teacher, female, report...   \n",
              " 38  \"A 31-year-old software developer, male, comes...   \n",
              " 39  \"A 40-year-old female, working as a graphic de...   \n",
              " \n",
              "                                                output tags  \\\n",
              " 0                    \"Irritable bowel syndrome (IBS)\"    -   \n",
              " 1                              \"Chronic constipation\"    -   \n",
              " 2                    \"Irritable bowel syndrome (IBS)\"    -   \n",
              " 3                          \"Irritable bowel syndrome\"    -   \n",
              " 4                    \"Irritable bowel syndrome (IBS)\"    -   \n",
              " 5                       \"Opioid-induced constipation\"    -   \n",
              " 6                    \"Irritable bowel syndrome (IBS)\"    -   \n",
              " 7                              \"Chronic constipation\"    -   \n",
              " 8                    \"Irritable bowel syndrome (IBS)\"    -   \n",
              " 9                    \"Irritable bowel syndrome (IBS)\"    -   \n",
              " 10                   \"Irritable bowel syndrome (IBS)\"    -   \n",
              " 11                             \"Chronic constipation\"    -   \n",
              " 12                   \"Irritable bowel syndrome (IBS)\"    -   \n",
              " 13                             \"Functional dyspepsia\"    -   \n",
              " 14                   \"Irritable bowel syndrome (IBS)\"    -   \n",
              " 15                      \"Opioid-induced constipation\"    -   \n",
              " 16                   \"Irritable bowel syndrome (IBS)\"    -   \n",
              " 17  \"Chronic constipation related to dietary facto...    -   \n",
              " 18                   \"Irritable bowel syndrome (IBS)\"    -   \n",
              " 19                             \"Functional dyspepsia\"    -   \n",
              " 20  \"- **Patient Symptoms**:\\n\\n\\u00a0\\u00a0- Recu...    -   \n",
              " 21  \"- **Patient Symptoms**:\\n\\n  - Infrequent bow...    -   \n",
              " 22  \"**Assessment**:\\n\\n- Patient Symptoms:\\n  - F...    -   \n",
              " 23  \"- **Patient Symptoms**:\\n\\n  - Persistent sen...    -   \n",
              " 24  \"- **Patient Symptoms**:\\n\\n  - Occasional mil...    -   \n",
              " 25  \"- **Patient Symptoms**:\\n\\n\\u00a0\\u00a0- Decr...    -   \n",
              " 26  \"**Assessment**:\\n\\n- Patient Symptoms:\\n  - I...    -   \n",
              " 27  \"- **Assessment**:\\n\\n  - Persistent difficult...    -   \n",
              " 28  \"- **Patient Symptoms**:\\n  - Frequent, sudden...    -   \n",
              " 29  \"**Assessment**:\\n\\nThe patient, a 40-year-old...    -   \n",
              " 30  \"Based on the patient's history of recurrent a...    -   \n",
              " 31  \"Based on the patient's symptoms of infrequent...    -   \n",
              " 32  \"Based on the symptoms and history provided, t...    -   \n",
              " 33  \"Based on the symptoms reported, the patient's...    -   \n",
              " 34  \"Based on the patient's history of non-specifi...    -   \n",
              " 35  \"Based on the provided information, the patien...    -   \n",
              " 36  \"Based on the symptoms provided, the most like...    -   \n",
              " 37  \"Based on the patient's symptoms of infrequent...    -   \n",
              " 38  \"Based on the patient's symptoms of frequent, ...    -   \n",
              " 39  \"Based on the patient's symptoms of chronic ab...    -   \n",
              " \n",
              "                                           record_json  \\\n",
              " 0   {\"record_id\": \"record_hash_639ac9903eff9f630af...   \n",
              " 1   {\"record_id\": \"record_hash_8a887afe1d1cec895d6...   \n",
              " 2   {\"record_id\": \"record_hash_0bb2f3174ece543ebc2...   \n",
              " 3   {\"record_id\": \"record_hash_ac1e37878d611015c3f...   \n",
              " 4   {\"record_id\": \"record_hash_57d4a2e07d7b213dd2a...   \n",
              " 5   {\"record_id\": \"record_hash_1e5e4d2a45117bf1dbc...   \n",
              " 6   {\"record_id\": \"record_hash_157456a3bcc7b0c0660...   \n",
              " 7   {\"record_id\": \"record_hash_14672c54209a43f6121...   \n",
              " 8   {\"record_id\": \"record_hash_31fb4469861e15de48f...   \n",
              " 9   {\"record_id\": \"record_hash_0983c9b1576c866d6cf...   \n",
              " 10  {\"record_id\": \"record_hash_ecda78f6a2d4aa99606...   \n",
              " 11  {\"record_id\": \"record_hash_795194ac0f9c6ff0018...   \n",
              " 12  {\"record_id\": \"record_hash_630c8c5a69c0daf4667...   \n",
              " 13  {\"record_id\": \"record_hash_5d08d82e20e94540b3e...   \n",
              " 14  {\"record_id\": \"record_hash_d21389de3514a8d5aac...   \n",
              " 15  {\"record_id\": \"record_hash_25ccfc50d389be9d677...   \n",
              " 16  {\"record_id\": \"record_hash_e61ca8d7aba5d389df7...   \n",
              " 17  {\"record_id\": \"record_hash_df9585444f01f72d4bd...   \n",
              " 18  {\"record_id\": \"record_hash_900a81fca236b9d0a5b...   \n",
              " 19  {\"record_id\": \"record_hash_3c573a80b6415c4a9e8...   \n",
              " 20  {\"record_id\": \"record_hash_a9f465202bb734dca17...   \n",
              " 21  {\"record_id\": \"record_hash_31d90a535e792090c45...   \n",
              " 22  {\"record_id\": \"record_hash_21910fb68f852dd1d12...   \n",
              " 23  {\"record_id\": \"record_hash_20f2bd64af4320441c2...   \n",
              " 24  {\"record_id\": \"record_hash_b57c8de4cb595d51ac4...   \n",
              " 25  {\"record_id\": \"record_hash_bd2583f33308b2c0759...   \n",
              " 26  {\"record_id\": \"record_hash_8078db77397ea4704ef...   \n",
              " 27  {\"record_id\": \"record_hash_094e09307ec18e26a40...   \n",
              " 28  {\"record_id\": \"record_hash_4f980cfa99a6724d686...   \n",
              " 29  {\"record_id\": \"record_hash_7a9b48fd2cb6ce7bc6b...   \n",
              " 30  {\"record_id\": \"record_hash_80ff49edb5551dd1d38...   \n",
              " 31  {\"record_id\": \"record_hash_3488f8b75c80c8c7338...   \n",
              " 32  {\"record_id\": \"record_hash_c56e37360ea3832f1dd...   \n",
              " 33  {\"record_id\": \"record_hash_602a8333a9ca96354a9...   \n",
              " 34  {\"record_id\": \"record_hash_f0bc5cc06e3c6e9aac9...   \n",
              " 35  {\"record_id\": \"record_hash_a612d083be5d23d844a...   \n",
              " 36  {\"record_id\": \"record_hash_2c2004cd40bb4a119df...   \n",
              " 37  {\"record_id\": \"record_hash_7d2604785a1859c9198...   \n",
              " 38  {\"record_id\": \"record_hash_9d22e641aee62d075f7...   \n",
              " 39  {\"record_id\": \"record_hash_b0f3069497de262454f...   \n",
              " \n",
              "                                             cost_json  \\\n",
              " 0   {\"n_requests\": 1, \"n_successful_requests\": 1, ...   \n",
              " 1   {\"n_requests\": 1, \"n_successful_requests\": 1, ...   \n",
              " 2   {\"n_requests\": 1, \"n_successful_requests\": 1, ...   \n",
              " 3   {\"n_requests\": 1, \"n_successful_requests\": 1, ...   \n",
              " 4   {\"n_requests\": 1, \"n_successful_requests\": 1, ...   \n",
              " 5   {\"n_requests\": 1, \"n_successful_requests\": 1, ...   \n",
              " 6   {\"n_requests\": 1, \"n_successful_requests\": 1, ...   \n",
              " 7   {\"n_requests\": 1, \"n_successful_requests\": 1, ...   \n",
              " 8   {\"n_requests\": 1, \"n_successful_requests\": 1, ...   \n",
              " 9   {\"n_requests\": 1, \"n_successful_requests\": 1, ...   \n",
              " 10  {\"n_requests\": 1, \"n_successful_requests\": 1, ...   \n",
              " 11  {\"n_requests\": 1, \"n_successful_requests\": 1, ...   \n",
              " 12  {\"n_requests\": 1, \"n_successful_requests\": 1, ...   \n",
              " 13  {\"n_requests\": 1, \"n_successful_requests\": 1, ...   \n",
              " 14  {\"n_requests\": 1, \"n_successful_requests\": 1, ...   \n",
              " 15  {\"n_requests\": 1, \"n_successful_requests\": 1, ...   \n",
              " 16  {\"n_requests\": 1, \"n_successful_requests\": 1, ...   \n",
              " 17  {\"n_requests\": 1, \"n_successful_requests\": 1, ...   \n",
              " 18  {\"n_requests\": 1, \"n_successful_requests\": 1, ...   \n",
              " 19  {\"n_requests\": 1, \"n_successful_requests\": 1, ...   \n",
              " 20  {\"n_requests\": 1, \"n_successful_requests\": 1, ...   \n",
              " 21  {\"n_requests\": 1, \"n_successful_requests\": 1, ...   \n",
              " 22  {\"n_requests\": 1, \"n_successful_requests\": 1, ...   \n",
              " 23  {\"n_requests\": 1, \"n_successful_requests\": 1, ...   \n",
              " 24  {\"n_requests\": 1, \"n_successful_requests\": 1, ...   \n",
              " 25  {\"n_requests\": 1, \"n_successful_requests\": 1, ...   \n",
              " 26  {\"n_requests\": 1, \"n_successful_requests\": 1, ...   \n",
              " 27  {\"n_requests\": 1, \"n_successful_requests\": 1, ...   \n",
              " 28  {\"n_requests\": 1, \"n_successful_requests\": 1, ...   \n",
              " 29  {\"n_requests\": 1, \"n_successful_requests\": 1, ...   \n",
              " 30  {\"n_requests\": 1, \"n_successful_requests\": 1, ...   \n",
              " 31  {\"n_requests\": 1, \"n_successful_requests\": 1, ...   \n",
              " 32  {\"n_requests\": 1, \"n_successful_requests\": 1, ...   \n",
              " 33  {\"n_requests\": 1, \"n_successful_requests\": 1, ...   \n",
              " 34  {\"n_requests\": 1, \"n_successful_requests\": 1, ...   \n",
              " 35  {\"n_requests\": 1, \"n_successful_requests\": 1, ...   \n",
              " 36  {\"n_requests\": 1, \"n_successful_requests\": 1, ...   \n",
              " 37  {\"n_requests\": 1, \"n_successful_requests\": 1, ...   \n",
              " 38  {\"n_requests\": 1, \"n_successful_requests\": 1, ...   \n",
              " 39  {\"n_requests\": 1, \"n_successful_requests\": 1, ...   \n",
              " \n",
              "                                             perf_json  \\\n",
              " 0   {\"start_time\": \"2023-12-25T12:29:02.268300\", \"...   \n",
              " 1   {\"start_time\": \"2023-12-25T12:29:03.433996\", \"...   \n",
              " 2   {\"start_time\": \"2023-12-25T12:29:04.485858\", \"...   \n",
              " 3   {\"start_time\": \"2023-12-25T12:29:05.365501\", \"...   \n",
              " 4   {\"start_time\": \"2023-12-25T12:29:06.366227\", \"...   \n",
              " 5   {\"start_time\": \"2023-12-25T12:29:07.446300\", \"...   \n",
              " 6   {\"start_time\": \"2023-12-25T12:29:08.476928\", \"...   \n",
              " 7   {\"start_time\": \"2023-12-25T12:29:09.528524\", \"...   \n",
              " 8   {\"start_time\": \"2023-12-25T12:29:10.291957\", \"...   \n",
              " 9   {\"start_time\": \"2023-12-25T12:29:11.554614\", \"...   \n",
              " 10  {\"start_time\": \"2023-12-25T12:37:15.338848\", \"...   \n",
              " 11  {\"start_time\": \"2023-12-25T12:37:16.712519\", \"...   \n",
              " 12  {\"start_time\": \"2023-12-25T12:37:17.755900\", \"...   \n",
              " 13  {\"start_time\": \"2023-12-25T12:37:18.795617\", \"...   \n",
              " 14  {\"start_time\": \"2023-12-25T12:37:19.779273\", \"...   \n",
              " 15  {\"start_time\": \"2023-12-25T12:37:20.979082\", \"...   \n",
              " 16  {\"start_time\": \"2023-12-25T12:37:22.428450\", \"...   \n",
              " 17  {\"start_time\": \"2023-12-25T12:37:23.290237\", \"...   \n",
              " 18  {\"start_time\": \"2023-12-25T12:37:24.451919\", \"...   \n",
              " 19  {\"start_time\": \"2023-12-25T12:37:25.309602\", \"...   \n",
              " 20  {\"start_time\": \"2023-12-25T12:35:40.573963\", \"...   \n",
              " 21  {\"start_time\": \"2023-12-25T12:35:47.529306\", \"...   \n",
              " 22  {\"start_time\": \"2023-12-25T12:35:53.493441\", \"...   \n",
              " 23  {\"start_time\": \"2023-12-25T12:35:59.875594\", \"...   \n",
              " 24  {\"start_time\": \"2023-12-25T12:36:02.887804\", \"...   \n",
              " 25  {\"start_time\": \"2023-12-25T12:36:08.754072\", \"...   \n",
              " 26  {\"start_time\": \"2023-12-25T12:36:15.981998\", \"...   \n",
              " 27  {\"start_time\": \"2023-12-25T12:36:22.956074\", \"...   \n",
              " 28  {\"start_time\": \"2023-12-25T12:36:29.921083\", \"...   \n",
              " 29  {\"start_time\": \"2023-12-25T12:36:37.699624\", \"...   \n",
              " 30  {\"start_time\": \"2023-12-25T12:36:45.434666\", \"...   \n",
              " 31  {\"start_time\": \"2023-12-25T12:36:47.768219\", \"...   \n",
              " 32  {\"start_time\": \"2023-12-25T12:36:50.368453\", \"...   \n",
              " 33  {\"start_time\": \"2023-12-25T12:36:53.611665\", \"...   \n",
              " 34  {\"start_time\": \"2023-12-25T12:36:56.171485\", \"...   \n",
              " 35  {\"start_time\": \"2023-12-25T12:37:00.334378\", \"...   \n",
              " 36  {\"start_time\": \"2023-12-25T12:37:02.837468\", \"...   \n",
              " 37  {\"start_time\": \"2023-12-25T12:37:05.837839\", \"...   \n",
              " 38  {\"start_time\": \"2023-12-25T12:37:08.694443\", \"...   \n",
              " 39  {\"start_time\": \"2023-12-25T12:37:11.887829\", \"...   \n",
              " \n",
              "                             ts  Answer Relevance  \\\n",
              " 0   2023-12-25T12:29:03.195373               1.0   \n",
              " 1   2023-12-25T12:29:04.306239               1.0   \n",
              " 2   2023-12-25T12:29:05.183836               1.0   \n",
              " 3   2023-12-25T12:29:06.204756               1.0   \n",
              " 4   2023-12-25T12:29:07.274944               1.0   \n",
              " 5   2023-12-25T12:29:08.308503               1.0   \n",
              " 6   2023-12-25T12:29:09.357985               1.0   \n",
              " 7   2023-12-25T12:29:10.113826               1.0   \n",
              " 8   2023-12-25T12:29:11.272285               1.0   \n",
              " 9   2023-12-25T12:29:12.415996               1.0   \n",
              " 10  2023-12-25T12:37:16.377228               1.0   \n",
              " 11  2023-12-25T12:37:17.578411               1.0   \n",
              " 12  2023-12-25T12:37:18.506975               0.8   \n",
              " 13  2023-12-25T12:37:19.440652               1.0   \n",
              " 14  2023-12-25T12:37:20.713034               1.0   \n",
              " 15  2023-12-25T12:37:22.271766               1.0   \n",
              " 16  2023-12-25T12:37:23.110569               1.0   \n",
              " 17  2023-12-25T12:37:24.288644               1.0   \n",
              " 18  2023-12-25T12:37:25.152889               1.0   \n",
              " 19  2023-12-25T12:37:25.944694               1.0   \n",
              " 20  2023-12-25T12:35:47.277456               1.0   \n",
              " 21  2023-12-25T12:35:53.290321               1.0   \n",
              " 22  2023-12-25T12:35:59.716074               1.0   \n",
              " 23  2023-12-25T12:36:02.087633               1.0   \n",
              " 24  2023-12-25T12:36:08.594973               1.0   \n",
              " 25  2023-12-25T12:36:15.708619               1.0   \n",
              " 26  2023-12-25T12:36:22.780821               1.0   \n",
              " 27  2023-12-25T12:36:29.760046               1.0   \n",
              " 28  2023-12-25T12:36:37.319172               1.0   \n",
              " 29  2023-12-25T12:36:45.266944               1.0   \n",
              " 30  2023-12-25T12:36:47.568209               1.0   \n",
              " 31  2023-12-25T12:36:50.185616               1.0   \n",
              " 32  2023-12-25T12:36:53.303555               1.0   \n",
              " 33  2023-12-25T12:36:56.009497               1.0   \n",
              " 34  2023-12-25T12:37:00.177656               1.0   \n",
              " 35  2023-12-25T12:37:02.653205               1.0   \n",
              " 36  2023-12-25T12:37:05.603938               1.0   \n",
              " 37  2023-12-25T12:37:08.536140               1.0   \n",
              " 38  2023-12-25T12:37:11.674896               0.9   \n",
              " 39  2023-12-25T12:37:15.054411               1.0   \n",
              " \n",
              "                                Answer Relevance_calls  latency  total_tokens  \\\n",
              " 0   [{'args': {'prompt': 'A 35-year-old female pre...        0           159   \n",
              " 1   [{'args': {'prompt': 'A 45-year-old male repor...        0           150   \n",
              " 2   [{'args': {'prompt': 'A 28-year-old female pre...        0           147   \n",
              " 3   [{'args': {'prompt': 'A 50-year-old male repor...        0           155   \n",
              " 4   [{'args': {'prompt': 'A 38-year-old female pre...        0           146   \n",
              " 5   [{'args': {'prompt': 'A 55-year-old male with ...        0           144   \n",
              " 6   [{'args': {'prompt': 'A 23-year-old university...        0           142   \n",
              " 7   [{'args': {'prompt': 'A 67-year-old retired te...        0           149   \n",
              " 8   [{'args': {'prompt': 'A 31-year-old software d...        0           144   \n",
              " 9   [{'args': {'prompt': 'A 40-year-old female, wo...        0           152   \n",
              " 10  [{'args': {'prompt': 'A 35-year-old female pre...        1           159   \n",
              " 11  [{'args': {'prompt': 'A 45-year-old male repor...        0           150   \n",
              " 12  [{'args': {'prompt': 'A 28-year-old female pre...        0           147   \n",
              " 13  [{'args': {'prompt': 'A 50-year-old male repor...        0           155   \n",
              " 14  [{'args': {'prompt': 'A 38-year-old female pre...        0           146   \n",
              " 15  [{'args': {'prompt': 'A 55-year-old male with ...        1           144   \n",
              " 16  [{'args': {'prompt': 'A 23-year-old university...        0           142   \n",
              " 17  [{'args': {'prompt': 'A 67-year-old retired te...        0           159   \n",
              " 18  [{'args': {'prompt': 'A 31-year-old software d...        0           144   \n",
              " 19  [{'args': {'prompt': 'A 40-year-old female, wo...        0           148   \n",
              " 20  [{'args': {'prompt': 'A 35-year-old female pre...        0          1114   \n",
              " 21  [{'args': {'prompt': 'A 45-year-old male repor...        0          1087   \n",
              " 22  [{'args': {'prompt': 'A 28-year-old female pre...        0          1104   \n",
              " 23  [{'args': {'prompt': 'A 50-year-old male repor...        0           914   \n",
              " 24  [{'args': {'prompt': 'A 38-year-old female pre...        0          1073   \n",
              " 25  [{'args': {'prompt': 'A 55-year-old male with ...        0          1114   \n",
              " 26  [{'args': {'prompt': 'A 23-year-old university...        0          1136   \n",
              " 27  [{'args': {'prompt': 'A 67-year-old retired te...        0          1123   \n",
              " 28  [{'args': {'prompt': 'A 31-year-old software d...        0          1103   \n",
              " 29  [{'args': {'prompt': 'A 40-year-old female, wo...        0          1177   \n",
              " 30  [{'args': {'prompt': 'A 35-year-old female pre...        0           238   \n",
              " 31  [{'args': {'prompt': 'A 45-year-old male repor...        0           235   \n",
              " 32  [{'args': {'prompt': 'A 28-year-old female pre...        0           275   \n",
              " 33  [{'args': {'prompt': 'A 50-year-old male repor...        0           257   \n",
              " 34  [{'args': {'prompt': 'A 38-year-old female pre...        0           313   \n",
              " 35  [{'args': {'prompt': 'A 55-year-old male with ...        0           239   \n",
              " 36  [{'args': {'prompt': 'A 23-year-old university...        0           254   \n",
              " 37  [{'args': {'prompt': 'A 67-year-old retired te...        0           258   \n",
              " 38  [{'args': {'prompt': 'A 31-year-old software d...        0           264   \n",
              " 39  [{'args': {'prompt': 'A 40-year-old female, wo...        0           275   \n",
              " \n",
              "     total_cost  \n",
              " 0     0.000243  \n",
              " 1     0.000227  \n",
              " 2     0.000225  \n",
              " 3     0.000235  \n",
              " 4     0.000224  \n",
              " 5     0.000219  \n",
              " 6     0.000218  \n",
              " 7     0.000226  \n",
              " 8     0.000221  \n",
              " 9     0.000232  \n",
              " 10    0.000243  \n",
              " 11    0.000227  \n",
              " 12    0.000225  \n",
              " 13    0.000235  \n",
              " 14    0.000224  \n",
              " 15    0.000219  \n",
              " 16    0.000218  \n",
              " 17    0.000246  \n",
              " 18    0.000221  \n",
              " 19    0.000224  \n",
              " 20    0.001826  \n",
              " 21    0.001773  \n",
              " 22    0.001812  \n",
              " 23    0.001426  \n",
              " 24    0.001750  \n",
              " 25    0.001832  \n",
              " 26    0.001878  \n",
              " 27    0.001846  \n",
              " 28    0.001811  \n",
              " 29    0.001955  \n",
              " 30    0.000398  \n",
              " 31    0.000393  \n",
              " 32    0.000478  \n",
              " 33    0.000436  \n",
              " 34    0.000554  \n",
              " 35    0.000406  \n",
              " 36    0.000438  \n",
              " 37    0.000440  \n",
              " 38    0.000457  \n",
              " 39    0.000475  ,\n",
              " ['Answer Relevance'])"
            ]
          },
          "metadata": {},
          "execution_count": 27
        }
      ]
    },
    {
      "cell_type": "code",
      "source": [],
      "metadata": {
        "id": "TznPUDBecPFk"
      },
      "execution_count": null,
      "outputs": []
    }
  ],
  "metadata": {
    "kernelspec": {
      "display_name": "milvus",
      "language": "python",
      "name": "python3"
    },
    "language_info": {
      "codemirror_mode": {
        "name": "ipython",
        "version": 3
      },
      "file_extension": ".py",
      "mimetype": "text/x-python",
      "name": "python",
      "nbconvert_exporter": "python",
      "pygments_lexer": "ipython3",
      "version": "3.11.5"
    },
    "colab": {
      "provenance": [],
      "collapsed_sections": [
        "rfs2RCYb144G"
      ]
    },
    "widgets": {
      "application/vnd.jupyter.widget-state+json": {
        "d77efb8ea8aa4f75874d691c2540c882": {
          "model_module": "@jupyter-widgets/controls",
          "model_name": "FileUploadModel",
          "model_module_version": "1.5.0",
          "state": {
            "_counter": 1,
            "_dom_classes": [],
            "_model_module": "@jupyter-widgets/controls",
            "_model_module_version": "1.5.0",
            "_model_name": "FileUploadModel",
            "_view_count": null,
            "_view_module": "@jupyter-widgets/controls",
            "_view_module_version": "1.5.0",
            "_view_name": "FileUploadView",
            "accept": "",
            "button_style": "",
            "data": [
              null
            ],
            "description": "Upload BPoT_system_prompt",
            "description_tooltip": null,
            "disabled": false,
            "error": "",
            "icon": "upload",
            "layout": "IPY_MODEL_1c9971b3426444a0b536f1f4ec5ed986",
            "metadata": [
              {
                "name": "Rome_IV_Bowel_Disordereditpad.org (1).txt",
                "type": "text/plain",
                "size": 3259,
                "lastModified": 1703496956058
              }
            ],
            "multiple": false,
            "style": "IPY_MODEL_8d0dc593b0b14d3e902c40483f68e908"
          }
        },
        "1c9971b3426444a0b536f1f4ec5ed986": {
          "model_module": "@jupyter-widgets/base",
          "model_name": "LayoutModel",
          "model_module_version": "1.2.0",
          "state": {
            "_model_module": "@jupyter-widgets/base",
            "_model_module_version": "1.2.0",
            "_model_name": "LayoutModel",
            "_view_count": null,
            "_view_module": "@jupyter-widgets/base",
            "_view_module_version": "1.2.0",
            "_view_name": "LayoutView",
            "align_content": null,
            "align_items": null,
            "align_self": null,
            "border": null,
            "bottom": null,
            "display": null,
            "flex": null,
            "flex_flow": null,
            "grid_area": null,
            "grid_auto_columns": null,
            "grid_auto_flow": null,
            "grid_auto_rows": null,
            "grid_column": null,
            "grid_gap": null,
            "grid_row": null,
            "grid_template_areas": null,
            "grid_template_columns": null,
            "grid_template_rows": null,
            "height": null,
            "justify_content": null,
            "justify_items": null,
            "left": null,
            "margin": null,
            "max_height": null,
            "max_width": null,
            "min_height": null,
            "min_width": null,
            "object_fit": null,
            "object_position": null,
            "order": null,
            "overflow": null,
            "overflow_x": null,
            "overflow_y": null,
            "padding": null,
            "right": null,
            "top": null,
            "visibility": null,
            "width": null
          }
        },
        "8d0dc593b0b14d3e902c40483f68e908": {
          "model_module": "@jupyter-widgets/controls",
          "model_name": "ButtonStyleModel",
          "model_module_version": "1.5.0",
          "state": {
            "_model_module": "@jupyter-widgets/controls",
            "_model_module_version": "1.5.0",
            "_model_name": "ButtonStyleModel",
            "_view_count": null,
            "_view_module": "@jupyter-widgets/base",
            "_view_module_version": "1.2.0",
            "_view_name": "StyleView",
            "button_color": null,
            "font_weight": ""
          }
        }
      }
    }
  },
  "nbformat": 4,
  "nbformat_minor": 0
}
